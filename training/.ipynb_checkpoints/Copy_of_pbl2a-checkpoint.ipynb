{
 "cells": [
  {
   "cell_type": "code",
   "execution_count": 1,
   "metadata": {
    "colab": {
     "base_uri": "https://localhost:8080/"
    },
    "id": "HvIBqpQ6QgT_",
    "outputId": "7978f259-f60f-4ee6-effb-76edb6c992f2"
   },
   "outputs": [
    {
     "name": "stdout",
     "output_type": "stream",
     "text": [
      "Defaulting to user installation because normal site-packages is not writeable\n",
      "Requirement already satisfied: tensorflow-gpu in /home/ovenoboyo/.local/lib/python3.8/site-packages (2.8.0)\n",
      "Requirement already satisfied: wrapt>=1.11.0 in /opt/anaconda/lib/python3.8/site-packages (from tensorflow-gpu) (1.12.1)\n",
      "Requirement already satisfied: opt-einsum>=2.3.2 in /home/ovenoboyo/.local/lib/python3.8/site-packages (from tensorflow-gpu) (3.3.0)\n",
      "Requirement already satisfied: absl-py>=0.4.0 in /home/ovenoboyo/.local/lib/python3.8/site-packages (from tensorflow-gpu) (1.0.0)\n",
      "Requirement already satisfied: libclang>=9.0.1 in /home/ovenoboyo/.local/lib/python3.8/site-packages (from tensorflow-gpu) (13.0.0)\n",
      "Requirement already satisfied: flatbuffers>=1.12 in /home/ovenoboyo/.local/lib/python3.8/site-packages (from tensorflow-gpu) (2.0)\n",
      "Requirement already satisfied: tensorboard<2.9,>=2.8 in /home/ovenoboyo/.local/lib/python3.8/site-packages (from tensorflow-gpu) (2.8.0)\n",
      "Requirement already satisfied: termcolor>=1.1.0 in /home/ovenoboyo/.local/lib/python3.8/site-packages (from tensorflow-gpu) (1.1.0)\n",
      "Requirement already satisfied: typing-extensions>=3.6.6 in /home/ovenoboyo/.local/lib/python3.8/site-packages (from tensorflow-gpu) (4.2.0)\n",
      "Requirement already satisfied: gast>=0.2.1 in /home/ovenoboyo/.local/lib/python3.8/site-packages (from tensorflow-gpu) (0.5.3)\n",
      "Requirement already satisfied: six>=1.12.0 in /home/ovenoboyo/.local/lib/python3.8/site-packages (from tensorflow-gpu) (1.12.0)\n",
      "Requirement already satisfied: setuptools in /opt/anaconda/lib/python3.8/site-packages (from tensorflow-gpu) (52.0.0.post20210125)\n",
      "Requirement already satisfied: google-pasta>=0.1.1 in /home/ovenoboyo/.local/lib/python3.8/site-packages (from tensorflow-gpu) (0.2.0)\n",
      "Requirement already satisfied: keras-preprocessing>=1.1.1 in /home/ovenoboyo/.local/lib/python3.8/site-packages (from tensorflow-gpu) (1.1.2)\n",
      "Requirement already satisfied: protobuf>=3.9.2 in /home/ovenoboyo/.local/lib/python3.8/site-packages (from tensorflow-gpu) (3.20.0)\n",
      "Requirement already satisfied: numpy>=1.20 in /opt/anaconda/lib/python3.8/site-packages (from tensorflow-gpu) (1.20.1)\n",
      "Requirement already satisfied: tensorflow-io-gcs-filesystem>=0.23.1 in /home/ovenoboyo/.local/lib/python3.8/site-packages (from tensorflow-gpu) (0.24.0)\n",
      "Requirement already satisfied: keras<2.9,>=2.8.0rc0 in /home/ovenoboyo/.local/lib/python3.8/site-packages (from tensorflow-gpu) (2.8.0)\n",
      "Requirement already satisfied: astunparse>=1.6.0 in /home/ovenoboyo/.local/lib/python3.8/site-packages (from tensorflow-gpu) (1.6.3)\n",
      "Requirement already satisfied: h5py>=2.9.0 in /opt/anaconda/lib/python3.8/site-packages (from tensorflow-gpu) (2.10.0)\n",
      "Requirement already satisfied: grpcio<2.0,>=1.24.3 in /home/ovenoboyo/.local/lib/python3.8/site-packages (from tensorflow-gpu) (1.44.0)\n",
      "Requirement already satisfied: tf-estimator-nightly==2.8.0.dev2021122109 in /home/ovenoboyo/.local/lib/python3.8/site-packages (from tensorflow-gpu) (2.8.0.dev2021122109)\n",
      "Requirement already satisfied: wheel<1.0,>=0.23.0 in /opt/anaconda/lib/python3.8/site-packages (from astunparse>=1.6.0->tensorflow-gpu) (0.36.2)\n",
      "Requirement already satisfied: markdown>=2.6.8 in /home/ovenoboyo/.local/lib/python3.8/site-packages (from tensorboard<2.9,>=2.8->tensorflow-gpu) (3.3.6)\n",
      "Requirement already satisfied: tensorboard-data-server<0.7.0,>=0.6.0 in /home/ovenoboyo/.local/lib/python3.8/site-packages (from tensorboard<2.9,>=2.8->tensorflow-gpu) (0.6.1)\n",
      "Requirement already satisfied: tensorboard-plugin-wit>=1.6.0 in /home/ovenoboyo/.local/lib/python3.8/site-packages (from tensorboard<2.9,>=2.8->tensorflow-gpu) (1.8.1)\n",
      "Requirement already satisfied: requests<3,>=2.21.0 in /home/ovenoboyo/.local/lib/python3.8/site-packages (from tensorboard<2.9,>=2.8->tensorflow-gpu) (2.27.1)\n",
      "Requirement already satisfied: google-auth<3,>=1.6.3 in /home/ovenoboyo/.local/lib/python3.8/site-packages (from tensorboard<2.9,>=2.8->tensorflow-gpu) (2.6.5)\n",
      "Requirement already satisfied: werkzeug>=0.11.15 in /opt/anaconda/lib/python3.8/site-packages (from tensorboard<2.9,>=2.8->tensorflow-gpu) (1.0.1)\n",
      "Requirement already satisfied: google-auth-oauthlib<0.5,>=0.4.1 in /home/ovenoboyo/.local/lib/python3.8/site-packages (from tensorboard<2.9,>=2.8->tensorflow-gpu) (0.4.6)\n",
      "Requirement already satisfied: pyasn1-modules>=0.2.1 in /home/ovenoboyo/.local/lib/python3.8/site-packages (from google-auth<3,>=1.6.3->tensorboard<2.9,>=2.8->tensorflow-gpu) (0.2.8)\n",
      "Requirement already satisfied: cachetools<6.0,>=2.0.0 in /home/ovenoboyo/.local/lib/python3.8/site-packages (from google-auth<3,>=1.6.3->tensorboard<2.9,>=2.8->tensorflow-gpu) (5.0.0)\n",
      "Requirement already satisfied: rsa<5,>=3.1.4 in /home/ovenoboyo/.local/lib/python3.8/site-packages (from google-auth<3,>=1.6.3->tensorboard<2.9,>=2.8->tensorflow-gpu) (4.8)\n",
      "Requirement already satisfied: requests-oauthlib>=0.7.0 in /home/ovenoboyo/.local/lib/python3.8/site-packages (from google-auth-oauthlib<0.5,>=0.4.1->tensorboard<2.9,>=2.8->tensorflow-gpu) (1.3.1)\n",
      "Requirement already satisfied: importlib-metadata>=4.4 in /home/ovenoboyo/.local/lib/python3.8/site-packages (from markdown>=2.6.8->tensorboard<2.9,>=2.8->tensorflow-gpu) (4.11.3)\n",
      "Requirement already satisfied: zipp>=0.5 in /opt/anaconda/lib/python3.8/site-packages (from importlib-metadata>=4.4->markdown>=2.6.8->tensorboard<2.9,>=2.8->tensorflow-gpu) (3.4.1)\n",
      "Requirement already satisfied: pyasn1<0.5.0,>=0.4.6 in /home/ovenoboyo/.local/lib/python3.8/site-packages (from pyasn1-modules>=0.2.1->google-auth<3,>=1.6.3->tensorboard<2.9,>=2.8->tensorflow-gpu) (0.4.8)\n",
      "Requirement already satisfied: charset-normalizer~=2.0.0 in /home/ovenoboyo/.local/lib/python3.8/site-packages (from requests<3,>=2.21.0->tensorboard<2.9,>=2.8->tensorflow-gpu) (2.0.12)\n",
      "Requirement already satisfied: idna<4,>=2.5 in /home/ovenoboyo/.local/lib/python3.8/site-packages (from requests<3,>=2.21.0->tensorboard<2.9,>=2.8->tensorflow-gpu) (2.8)\n",
      "Requirement already satisfied: urllib3<1.27,>=1.21.1 in /home/ovenoboyo/.local/lib/python3.8/site-packages (from requests<3,>=2.21.0->tensorboard<2.9,>=2.8->tensorflow-gpu) (1.24.3)\n",
      "Requirement already satisfied: certifi>=2017.4.17 in /opt/anaconda/lib/python3.8/site-packages (from requests<3,>=2.21.0->tensorboard<2.9,>=2.8->tensorflow-gpu) (2020.12.5)\n",
      "Requirement already satisfied: oauthlib>=3.0.0 in /home/ovenoboyo/.local/lib/python3.8/site-packages (from requests-oauthlib>=0.7.0->google-auth-oauthlib<0.5,>=0.4.1->tensorboard<2.9,>=2.8->tensorflow-gpu) (3.2.0)\n"
     ]
    }
   ],
   "source": [
    "!pip install tensorflow-gpu\n"
   ]
  },
  {
   "cell_type": "markdown",
   "metadata": {
    "id": "qiGhvvpwhxtP"
   },
   "source": [
    "reference from https://tensorflow-object-detection-api-tutorial.readthedocs.io/en/latest/training.html"
   ]
  },
  {
   "cell_type": "code",
   "execution_count": 2,
   "metadata": {
    "id": "Yaj54vPmk7Oh"
   },
   "outputs": [],
   "source": [
    "# from google.colab import drive\n",
    "# drive.mount('/content/drive')\n",
    "\n"
   ]
  },
  {
   "cell_type": "code",
   "execution_count": 3,
   "metadata": {
    "colab": {
     "base_uri": "https://localhost:8080/"
    },
    "id": "8v95Cwp7QwHA",
    "outputId": "e29c7b18-5cbd-44a1-fcdf-92ce9a3e9a11"
   },
   "outputs": [
    {
     "name": "stdout",
     "output_type": "stream",
     "text": [
      "2.8.0\n"
     ]
    }
   ],
   "source": [
    "import tensorflow as tf\n",
    "print(tf.__version__)"
   ]
  },
  {
   "cell_type": "markdown",
   "metadata": {
    "id": "lW_Wj2-MRbp0"
   },
   "source": [
    "# cloning tfod from github"
   ]
  },
  {
   "cell_type": "code",
   "execution_count": 4,
   "metadata": {
    "colab": {
     "base_uri": "https://localhost:8080/"
    },
    "id": "s1zOwvpIomA1",
    "outputId": "8c3c4de2-31ff-434d-ce57-ed1e9c175449"
   },
   "outputs": [
    {
     "name": "stdout",
     "output_type": "stream",
     "text": [
      "/home/ovenoboyo/projects/pbl/training\n"
     ]
    }
   ],
   "source": [
    "cd /home/ovenoboyo/projects/pbl/training/"
   ]
  },
  {
   "cell_type": "code",
   "execution_count": 5,
   "metadata": {
    "colab": {
     "base_uri": "https://localhost:8080/"
    },
    "id": "q0uJ4R5gRFJL",
    "outputId": "c0535a36-47fc-42d1-a849-0e177b7c9337"
   },
   "outputs": [],
   "source": [
    "# !git clone https://github.com/tensorflow/models.git './cloned_tfod2'"
   ]
  },
  {
   "cell_type": "code",
   "execution_count": 6,
   "metadata": {
    "colab": {
     "base_uri": "https://localhost:8080/"
    },
    "id": "NzAOkYgNRec3",
    "outputId": "482edacd-85b9-4579-ff9c-ccfb06fdc172"
   },
   "outputs": [
    {
     "data": {
      "text/plain": [
       "'/home/ovenoboyo/projects/pbl/training'"
      ]
     },
     "execution_count": 6,
     "metadata": {},
     "output_type": "execute_result"
    }
   ],
   "source": [
    "pwd"
   ]
  },
  {
   "cell_type": "code",
   "execution_count": 7,
   "metadata": {
    "colab": {
     "base_uri": "https://localhost:8080/"
    },
    "id": "uhE-VHLbRvGE",
    "outputId": "5bb66f0b-a87a-4e2b-ae0b-2c5e8019bf66"
   },
   "outputs": [
    {
     "name": "stdout",
     "output_type": "stream",
     "text": [
      "/home/ovenoboyo/projects/pbl/training/cloned_tfod2/research\n"
     ]
    }
   ],
   "source": [
    "cd /home/ovenoboyo/projects/pbl/training/cloned_tfod2/research"
   ]
  },
  {
   "cell_type": "code",
   "execution_count": 8,
   "metadata": {
    "id": "WorVJuw9R8CJ"
   },
   "outputs": [],
   "source": [
    "# !protoc object_detection/protos/*.proto --python_out=."
   ]
  },
  {
   "cell_type": "code",
   "execution_count": 9,
   "metadata": {
    "colab": {
     "base_uri": "https://localhost:8080/"
    },
    "id": "LJEj9EOTR_mQ",
    "outputId": "53c5b50e-6009-4a13-866b-58841cd3efb6"
   },
   "outputs": [],
   "source": [
    "# !git clone https://github.com/cocodataset/cocoapi.git"
   ]
  },
  {
   "cell_type": "code",
   "execution_count": 10,
   "metadata": {
    "colab": {
     "base_uri": "https://localhost:8080/"
    },
    "id": "AuUiDcVcSHpT",
    "outputId": "477a9f82-29e7-4d24-e861-3c15bc851ec7"
   },
   "outputs": [
    {
     "name": "stdout",
     "output_type": "stream",
     "text": [
      "/home/ovenoboyo/projects/pbl/training/cloned_tfod2/research/cocoapi/PythonAPI\n"
     ]
    }
   ],
   "source": [
    "cd cocoapi/PythonAPI"
   ]
  },
  {
   "cell_type": "code",
   "execution_count": 11,
   "metadata": {
    "colab": {
     "base_uri": "https://localhost:8080/"
    },
    "id": "wmIanYV2SKxG",
    "outputId": "2847c043-83da-42cd-caf2-340294fc7d9b"
   },
   "outputs": [],
   "source": [
    "# !make"
   ]
  },
  {
   "cell_type": "code",
   "execution_count": 12,
   "metadata": {
    "id": "gZpNtrvGSOpn"
   },
   "outputs": [],
   "source": [
    "# cp -r pycocotools /home/ovenoboyo/projects/pbl/training/cloned_tfod2/research"
   ]
  },
  {
   "cell_type": "markdown",
   "metadata": {
    "id": "FPe-ktxxSaXH"
   },
   "source": [
    "# installing obj-detection API"
   ]
  },
  {
   "cell_type": "code",
   "execution_count": 13,
   "metadata": {
    "colab": {
     "base_uri": "https://localhost:8080/"
    },
    "id": "CdDmb5grSTQG",
    "outputId": "e43c1639-6e1b-43a9-ef12-4dab23a7ccba"
   },
   "outputs": [
    {
     "name": "stdout",
     "output_type": "stream",
     "text": [
      "/home/ovenoboyo/projects/pbl/training/cloned_tfod2/research/cocoapi\n"
     ]
    }
   ],
   "source": [
    "cd .."
   ]
  },
  {
   "cell_type": "code",
   "execution_count": 14,
   "metadata": {
    "colab": {
     "base_uri": "https://localhost:8080/"
    },
    "id": "wnbsgdLKSefI",
    "outputId": "1dd0d0bf-cf52-40f5-bc8b-27c38d004bdc"
   },
   "outputs": [
    {
     "name": "stdout",
     "output_type": "stream",
     "text": [
      "/home/ovenoboyo/projects/pbl/training/cloned_tfod2/research\n"
     ]
    }
   ],
   "source": [
    "cd .."
   ]
  },
  {
   "cell_type": "code",
   "execution_count": 15,
   "metadata": {
    "id": "or9z8M8HSkNc"
   },
   "outputs": [],
   "source": [
    "cp object_detection/packages/tf2/setup.py ."
   ]
  },
  {
   "cell_type": "code",
   "execution_count": 16,
   "metadata": {
    "colab": {
     "base_uri": "https://localhost:8080/"
    },
    "id": "Y5-jIRBoSpon",
    "outputId": "e2aa9bdd-6952-42d0-f483-c836bf796db8"
   },
   "outputs": [
    {
     "name": "stdout",
     "output_type": "stream",
     "text": [
      "Defaulting to user installation because normal site-packages is not writeable\n",
      "Processing /home/ovenoboyo/projects/pbl/training/cloned_tfod2/research\n",
      "Requirement already satisfied: avro-python3 in /home/ovenoboyo/.local/lib/python3.8/site-packages (from object-detection==0.1) (1.10.2)\n",
      "Requirement already satisfied: apache-beam in /home/ovenoboyo/.local/lib/python3.8/site-packages (from object-detection==0.1) (2.37.0)\n",
      "Requirement already satisfied: pillow in /opt/anaconda/lib/python3.8/site-packages (from object-detection==0.1) (8.2.0)\n",
      "Requirement already satisfied: lxml in /opt/anaconda/lib/python3.8/site-packages (from object-detection==0.1) (4.6.3)\n",
      "Requirement already satisfied: matplotlib in /opt/anaconda/lib/python3.8/site-packages (from object-detection==0.1) (3.3.4)\n",
      "Requirement already satisfied: Cython in /opt/anaconda/lib/python3.8/site-packages (from object-detection==0.1) (0.29.23)\n",
      "Requirement already satisfied: contextlib2 in /opt/anaconda/lib/python3.8/site-packages (from object-detection==0.1) (0.6.0.post1)\n",
      "Requirement already satisfied: tf-slim in /home/ovenoboyo/.local/lib/python3.8/site-packages (from object-detection==0.1) (1.1.0)\n",
      "Requirement already satisfied: six in /home/ovenoboyo/.local/lib/python3.8/site-packages (from object-detection==0.1) (1.12.0)\n",
      "Requirement already satisfied: pycocotools in /home/ovenoboyo/.local/lib/python3.8/site-packages (from object-detection==0.1) (2.0.4)\n",
      "Requirement already satisfied: lvis in /home/ovenoboyo/.local/lib/python3.8/site-packages (from object-detection==0.1) (0.5.3)\n",
      "Requirement already satisfied: scipy in /opt/anaconda/lib/python3.8/site-packages (from object-detection==0.1) (1.6.2)\n",
      "Requirement already satisfied: pandas in /opt/anaconda/lib/python3.8/site-packages (from object-detection==0.1) (1.2.4)\n",
      "Requirement already satisfied: tf-models-official>=2.5.1 in /home/ovenoboyo/.local/lib/python3.8/site-packages (from object-detection==0.1) (2.8.0)\n",
      "Requirement already satisfied: tensorflow_io in /home/ovenoboyo/.local/lib/python3.8/site-packages (from object-detection==0.1) (0.24.0)\n",
      "Requirement already satisfied: keras in /home/ovenoboyo/.local/lib/python3.8/site-packages (from object-detection==0.1) (2.8.0)\n",
      "Requirement already satisfied: sacrebleu in /home/ovenoboyo/.local/lib/python3.8/site-packages (from tf-models-official>=2.5.1->object-detection==0.1) (2.0.0)\n",
      "Requirement already satisfied: tensorflow-model-optimization>=0.4.1 in /home/ovenoboyo/.local/lib/python3.8/site-packages (from tf-models-official>=2.5.1->object-detection==0.1) (0.7.2)\n",
      "Requirement already satisfied: opencv-python-headless in /home/ovenoboyo/.local/lib/python3.8/site-packages (from tf-models-official>=2.5.1->object-detection==0.1) (4.5.5.64)\n",
      "Requirement already satisfied: kaggle>=1.3.9 in /home/ovenoboyo/.local/lib/python3.8/site-packages (from tf-models-official>=2.5.1->object-detection==0.1) (1.5.12)\n",
      "Requirement already satisfied: oauth2client in /home/ovenoboyo/.local/lib/python3.8/site-packages (from tf-models-official>=2.5.1->object-detection==0.1) (4.1.3)\n",
      "Requirement already satisfied: pyyaml<6.0,>=5.1 in /opt/anaconda/lib/python3.8/site-packages (from tf-models-official>=2.5.1->object-detection==0.1) (5.4.1)\n",
      "Requirement already satisfied: numpy>=1.15.4 in /opt/anaconda/lib/python3.8/site-packages (from tf-models-official>=2.5.1->object-detection==0.1) (1.20.1)\n",
      "Requirement already satisfied: tensorflow-datasets in /home/ovenoboyo/.local/lib/python3.8/site-packages (from tf-models-official>=2.5.1->object-detection==0.1) (4.5.2)\n",
      "Requirement already satisfied: google-api-python-client>=1.6.7 in /home/ovenoboyo/.local/lib/python3.8/site-packages (from tf-models-official>=2.5.1->object-detection==0.1) (2.45.0)\n",
      "Requirement already satisfied: tensorflow-text~=2.8.0 in /home/ovenoboyo/.local/lib/python3.8/site-packages (from tf-models-official>=2.5.1->object-detection==0.1) (2.8.1)\n",
      "Requirement already satisfied: py-cpuinfo>=3.3.0 in /home/ovenoboyo/.local/lib/python3.8/site-packages (from tf-models-official>=2.5.1->object-detection==0.1) (8.0.0)\n",
      "Requirement already satisfied: psutil>=5.4.3 in /opt/anaconda/lib/python3.8/site-packages (from tf-models-official>=2.5.1->object-detection==0.1) (5.8.0)\n",
      "Requirement already satisfied: tensorflow~=2.8.0 in /home/ovenoboyo/.local/lib/python3.8/site-packages (from tf-models-official>=2.5.1->object-detection==0.1) (2.8.0)\n",
      "Requirement already satisfied: sentencepiece in /home/ovenoboyo/.local/lib/python3.8/site-packages (from tf-models-official>=2.5.1->object-detection==0.1) (0.1.96)\n",
      "Requirement already satisfied: tensorflow-addons in /home/ovenoboyo/.local/lib/python3.8/site-packages (from tf-models-official>=2.5.1->object-detection==0.1) (0.16.1)\n",
      "Requirement already satisfied: seqeval in /home/ovenoboyo/.local/lib/python3.8/site-packages (from tf-models-official>=2.5.1->object-detection==0.1) (1.2.2)\n",
      "Requirement already satisfied: tensorflow-hub>=0.6.0 in /home/ovenoboyo/.local/lib/python3.8/site-packages (from tf-models-official>=2.5.1->object-detection==0.1) (0.12.0)\n",
      "Requirement already satisfied: gin-config in /home/ovenoboyo/.local/lib/python3.8/site-packages (from tf-models-official>=2.5.1->object-detection==0.1) (0.5.0)\n",
      "Requirement already satisfied: google-auth<3.0.0dev,>=1.16.0 in /home/ovenoboyo/.local/lib/python3.8/site-packages (from google-api-python-client>=1.6.7->tf-models-official>=2.5.1->object-detection==0.1) (2.6.5)\n",
      "Requirement already satisfied: uritemplate<5,>=3.0.1 in /home/ovenoboyo/.local/lib/python3.8/site-packages (from google-api-python-client>=1.6.7->tf-models-official>=2.5.1->object-detection==0.1) (4.1.1)\n",
      "Requirement already satisfied: httplib2<1dev,>=0.15.0 in /home/ovenoboyo/.local/lib/python3.8/site-packages (from google-api-python-client>=1.6.7->tf-models-official>=2.5.1->object-detection==0.1) (0.19.1)\n",
      "Requirement already satisfied: google-auth-httplib2>=0.1.0 in /home/ovenoboyo/.local/lib/python3.8/site-packages (from google-api-python-client>=1.6.7->tf-models-official>=2.5.1->object-detection==0.1) (0.1.0)\n",
      "Requirement already satisfied: google-api-core!=2.0.*,!=2.1.*,!=2.2.*,!=2.3.0,<3.0.0dev,>=1.31.5 in /home/ovenoboyo/.local/lib/python3.8/site-packages (from google-api-python-client>=1.6.7->tf-models-official>=2.5.1->object-detection==0.1) (2.7.2)\n",
      "Requirement already satisfied: protobuf>=3.12.0 in /home/ovenoboyo/.local/lib/python3.8/site-packages (from google-api-core!=2.0.*,!=2.1.*,!=2.2.*,!=2.3.0,<3.0.0dev,>=1.31.5->google-api-python-client>=1.6.7->tf-models-official>=2.5.1->object-detection==0.1) (3.20.0)\n",
      "Requirement already satisfied: googleapis-common-protos<2.0dev,>=1.52.0 in /home/ovenoboyo/.local/lib/python3.8/site-packages (from google-api-core!=2.0.*,!=2.1.*,!=2.2.*,!=2.3.0,<3.0.0dev,>=1.31.5->google-api-python-client>=1.6.7->tf-models-official>=2.5.1->object-detection==0.1) (1.56.0)\n",
      "Requirement already satisfied: requests<3.0.0dev,>=2.18.0 in /home/ovenoboyo/.local/lib/python3.8/site-packages (from google-api-core!=2.0.*,!=2.1.*,!=2.2.*,!=2.3.0,<3.0.0dev,>=1.31.5->google-api-python-client>=1.6.7->tf-models-official>=2.5.1->object-detection==0.1) (2.27.1)\n",
      "Requirement already satisfied: pyasn1-modules>=0.2.1 in /home/ovenoboyo/.local/lib/python3.8/site-packages (from google-auth<3.0.0dev,>=1.16.0->google-api-python-client>=1.6.7->tf-models-official>=2.5.1->object-detection==0.1) (0.2.8)\n",
      "Requirement already satisfied: cachetools<6.0,>=2.0.0 in /home/ovenoboyo/.local/lib/python3.8/site-packages (from google-auth<3.0.0dev,>=1.16.0->google-api-python-client>=1.6.7->tf-models-official>=2.5.1->object-detection==0.1) (5.0.0)\n",
      "Requirement already satisfied: rsa<5,>=3.1.4 in /home/ovenoboyo/.local/lib/python3.8/site-packages (from google-auth<3.0.0dev,>=1.16.0->google-api-python-client>=1.6.7->tf-models-official>=2.5.1->object-detection==0.1) (4.8)\n",
      "Requirement already satisfied: pyparsing<3,>=2.4.2 in /opt/anaconda/lib/python3.8/site-packages (from httplib2<1dev,>=0.15.0->google-api-python-client>=1.6.7->tf-models-official>=2.5.1->object-detection==0.1) (2.4.7)\n",
      "Requirement already satisfied: urllib3 in /home/ovenoboyo/.local/lib/python3.8/site-packages (from kaggle>=1.3.9->tf-models-official>=2.5.1->object-detection==0.1) (1.24.3)\n",
      "Requirement already satisfied: certifi in /opt/anaconda/lib/python3.8/site-packages (from kaggle>=1.3.9->tf-models-official>=2.5.1->object-detection==0.1) (2020.12.5)\n",
      "Requirement already satisfied: tqdm in /opt/anaconda/lib/python3.8/site-packages (from kaggle>=1.3.9->tf-models-official>=2.5.1->object-detection==0.1) (4.59.0)\n",
      "Requirement already satisfied: python-slugify in /home/ovenoboyo/.local/lib/python3.8/site-packages (from kaggle>=1.3.9->tf-models-official>=2.5.1->object-detection==0.1) (6.1.1)\n",
      "Requirement already satisfied: python-dateutil in /home/ovenoboyo/.local/lib/python3.8/site-packages (from kaggle>=1.3.9->tf-models-official>=2.5.1->object-detection==0.1) (2.8.2)\n",
      "Requirement already satisfied: pytz>=2017.3 in /opt/anaconda/lib/python3.8/site-packages (from pandas->object-detection==0.1) (2021.1)\n",
      "Requirement already satisfied: pyasn1<0.5.0,>=0.4.6 in /home/ovenoboyo/.local/lib/python3.8/site-packages (from pyasn1-modules>=0.2.1->google-auth<3.0.0dev,>=1.16.0->google-api-python-client>=1.6.7->tf-models-official>=2.5.1->object-detection==0.1) (0.4.8)\n"
     ]
    },
    {
     "name": "stdout",
     "output_type": "stream",
     "text": [
      "Requirement already satisfied: idna<4,>=2.5 in /home/ovenoboyo/.local/lib/python3.8/site-packages (from requests<3.0.0dev,>=2.18.0->google-api-core!=2.0.*,!=2.1.*,!=2.2.*,!=2.3.0,<3.0.0dev,>=1.31.5->google-api-python-client>=1.6.7->tf-models-official>=2.5.1->object-detection==0.1) (2.8)\n",
      "Requirement already satisfied: charset-normalizer~=2.0.0 in /home/ovenoboyo/.local/lib/python3.8/site-packages (from requests<3.0.0dev,>=2.18.0->google-api-core!=2.0.*,!=2.1.*,!=2.2.*,!=2.3.0,<3.0.0dev,>=1.31.5->google-api-python-client>=1.6.7->tf-models-official>=2.5.1->object-detection==0.1) (2.0.12)\n",
      "Requirement already satisfied: libclang>=9.0.1 in /home/ovenoboyo/.local/lib/python3.8/site-packages (from tensorflow~=2.8.0->tf-models-official>=2.5.1->object-detection==0.1) (13.0.0)\n",
      "Requirement already satisfied: astunparse>=1.6.0 in /home/ovenoboyo/.local/lib/python3.8/site-packages (from tensorflow~=2.8.0->tf-models-official>=2.5.1->object-detection==0.1) (1.6.3)\n",
      "Requirement already satisfied: absl-py>=0.4.0 in /home/ovenoboyo/.local/lib/python3.8/site-packages (from tensorflow~=2.8.0->tf-models-official>=2.5.1->object-detection==0.1) (1.0.0)\n",
      "Requirement already satisfied: google-pasta>=0.1.1 in /home/ovenoboyo/.local/lib/python3.8/site-packages (from tensorflow~=2.8.0->tf-models-official>=2.5.1->object-detection==0.1) (0.2.0)\n",
      "Requirement already satisfied: h5py>=2.9.0 in /opt/anaconda/lib/python3.8/site-packages (from tensorflow~=2.8.0->tf-models-official>=2.5.1->object-detection==0.1) (2.10.0)\n",
      "Requirement already satisfied: keras-preprocessing>=1.1.1 in /home/ovenoboyo/.local/lib/python3.8/site-packages (from tensorflow~=2.8.0->tf-models-official>=2.5.1->object-detection==0.1) (1.1.2)\n",
      "Requirement already satisfied: grpcio<2.0,>=1.24.3 in /home/ovenoboyo/.local/lib/python3.8/site-packages (from tensorflow~=2.8.0->tf-models-official>=2.5.1->object-detection==0.1) (1.44.0)\n",
      "Requirement already satisfied: typing-extensions>=3.6.6 in /home/ovenoboyo/.local/lib/python3.8/site-packages (from tensorflow~=2.8.0->tf-models-official>=2.5.1->object-detection==0.1) (4.2.0)\n",
      "Requirement already satisfied: tensorflow-io-gcs-filesystem>=0.23.1 in /home/ovenoboyo/.local/lib/python3.8/site-packages (from tensorflow~=2.8.0->tf-models-official>=2.5.1->object-detection==0.1) (0.24.0)\n",
      "Requirement already satisfied: flatbuffers>=1.12 in /home/ovenoboyo/.local/lib/python3.8/site-packages (from tensorflow~=2.8.0->tf-models-official>=2.5.1->object-detection==0.1) (2.0)\n",
      "Requirement already satisfied: setuptools in /opt/anaconda/lib/python3.8/site-packages (from tensorflow~=2.8.0->tf-models-official>=2.5.1->object-detection==0.1) (52.0.0.post20210125)\n",
      "Requirement already satisfied: tensorboard<2.9,>=2.8 in /home/ovenoboyo/.local/lib/python3.8/site-packages (from tensorflow~=2.8.0->tf-models-official>=2.5.1->object-detection==0.1) (2.8.0)\n",
      "Requirement already satisfied: opt-einsum>=2.3.2 in /home/ovenoboyo/.local/lib/python3.8/site-packages (from tensorflow~=2.8.0->tf-models-official>=2.5.1->object-detection==0.1) (3.3.0)\n",
      "Requirement already satisfied: termcolor>=1.1.0 in /home/ovenoboyo/.local/lib/python3.8/site-packages (from tensorflow~=2.8.0->tf-models-official>=2.5.1->object-detection==0.1) (1.1.0)\n",
      "Requirement already satisfied: tf-estimator-nightly==2.8.0.dev2021122109 in /home/ovenoboyo/.local/lib/python3.8/site-packages (from tensorflow~=2.8.0->tf-models-official>=2.5.1->object-detection==0.1) (2.8.0.dev2021122109)\n",
      "Requirement already satisfied: wrapt>=1.11.0 in /opt/anaconda/lib/python3.8/site-packages (from tensorflow~=2.8.0->tf-models-official>=2.5.1->object-detection==0.1) (1.12.1)\n",
      "Requirement already satisfied: gast>=0.2.1 in /home/ovenoboyo/.local/lib/python3.8/site-packages (from tensorflow~=2.8.0->tf-models-official>=2.5.1->object-detection==0.1) (0.5.3)\n",
      "Requirement already satisfied: wheel<1.0,>=0.23.0 in /opt/anaconda/lib/python3.8/site-packages (from astunparse>=1.6.0->tensorflow~=2.8.0->tf-models-official>=2.5.1->object-detection==0.1) (0.36.2)\n",
      "Requirement already satisfied: tensorboard-data-server<0.7.0,>=0.6.0 in /home/ovenoboyo/.local/lib/python3.8/site-packages (from tensorboard<2.9,>=2.8->tensorflow~=2.8.0->tf-models-official>=2.5.1->object-detection==0.1) (0.6.1)\n",
      "Requirement already satisfied: werkzeug>=0.11.15 in /opt/anaconda/lib/python3.8/site-packages (from tensorboard<2.9,>=2.8->tensorflow~=2.8.0->tf-models-official>=2.5.1->object-detection==0.1) (1.0.1)\n",
      "Requirement already satisfied: google-auth-oauthlib<0.5,>=0.4.1 in /home/ovenoboyo/.local/lib/python3.8/site-packages (from tensorboard<2.9,>=2.8->tensorflow~=2.8.0->tf-models-official>=2.5.1->object-detection==0.1) (0.4.6)\n",
      "Requirement already satisfied: tensorboard-plugin-wit>=1.6.0 in /home/ovenoboyo/.local/lib/python3.8/site-packages (from tensorboard<2.9,>=2.8->tensorflow~=2.8.0->tf-models-official>=2.5.1->object-detection==0.1) (1.8.1)\n",
      "Requirement already satisfied: markdown>=2.6.8 in /home/ovenoboyo/.local/lib/python3.8/site-packages (from tensorboard<2.9,>=2.8->tensorflow~=2.8.0->tf-models-official>=2.5.1->object-detection==0.1) (3.3.6)\n",
      "Requirement already satisfied: requests-oauthlib>=0.7.0 in /home/ovenoboyo/.local/lib/python3.8/site-packages (from google-auth-oauthlib<0.5,>=0.4.1->tensorboard<2.9,>=2.8->tensorflow~=2.8.0->tf-models-official>=2.5.1->object-detection==0.1) (1.3.1)\n",
      "Requirement already satisfied: importlib-metadata>=4.4 in /home/ovenoboyo/.local/lib/python3.8/site-packages (from markdown>=2.6.8->tensorboard<2.9,>=2.8->tensorflow~=2.8.0->tf-models-official>=2.5.1->object-detection==0.1) (4.11.3)\n",
      "Requirement already satisfied: zipp>=0.5 in /opt/anaconda/lib/python3.8/site-packages (from importlib-metadata>=4.4->markdown>=2.6.8->tensorboard<2.9,>=2.8->tensorflow~=2.8.0->tf-models-official>=2.5.1->object-detection==0.1) (3.4.1)\n",
      "Requirement already satisfied: oauthlib>=3.0.0 in /home/ovenoboyo/.local/lib/python3.8/site-packages (from requests-oauthlib>=0.7.0->google-auth-oauthlib<0.5,>=0.4.1->tensorboard<2.9,>=2.8->tensorflow~=2.8.0->tf-models-official>=2.5.1->object-detection==0.1) (3.2.0)\n",
      "Requirement already satisfied: dm-tree~=0.1.1 in /home/ovenoboyo/.local/lib/python3.8/site-packages (from tensorflow-model-optimization>=0.4.1->tf-models-official>=2.5.1->object-detection==0.1) (0.1.7)\n",
      "Requirement already satisfied: orjson<4.0 in /home/ovenoboyo/.local/lib/python3.8/site-packages (from apache-beam->object-detection==0.1) (3.6.8)\n",
      "Requirement already satisfied: crcmod<2.0,>=1.7 in /home/ovenoboyo/.local/lib/python3.8/site-packages (from apache-beam->object-detection==0.1) (1.7)\n",
      "Requirement already satisfied: cloudpickle<3,>=2.0.0 in /home/ovenoboyo/.local/lib/python3.8/site-packages (from apache-beam->object-detection==0.1) (2.0.0)\n",
      "Requirement already satisfied: pymongo<4.0.0,>=3.8.0 in /home/ovenoboyo/.local/lib/python3.8/site-packages (from apache-beam->object-detection==0.1) (3.12.3)\n",
      "Requirement already satisfied: proto-plus<2,>=1.7.1 in /home/ovenoboyo/.local/lib/python3.8/site-packages (from apache-beam->object-detection==0.1) (1.20.3)\n",
      "Requirement already satisfied: pyarrow<7.0.0,>=0.15.1 in /home/ovenoboyo/.local/lib/python3.8/site-packages (from apache-beam->object-detection==0.1) (6.0.1)\n",
      "Requirement already satisfied: pydot<2,>=1.2.0 in /home/ovenoboyo/.local/lib/python3.8/site-packages (from apache-beam->object-detection==0.1) (1.4.2)\n",
      "Requirement already satisfied: fastavro<2,>=0.23.6 in /home/ovenoboyo/.local/lib/python3.8/site-packages (from apache-beam->object-detection==0.1) (1.4.10)\n",
      "Requirement already satisfied: dill<0.3.2,>=0.3.1.1 in /home/ovenoboyo/.local/lib/python3.8/site-packages (from apache-beam->object-detection==0.1) (0.3.1.1)\n",
      "Requirement already satisfied: hdfs<3.0.0,>=2.1.0 in /home/ovenoboyo/.local/lib/python3.8/site-packages (from apache-beam->object-detection==0.1) (2.7.0)\n",
      "Requirement already satisfied: docopt in /home/ovenoboyo/.local/lib/python3.8/site-packages (from hdfs<3.0.0,>=2.1.0->apache-beam->object-detection==0.1) (0.6.2)\n",
      "Requirement already satisfied: opencv-python>=4.1.0.25 in /home/ovenoboyo/.local/lib/python3.8/site-packages (from lvis->object-detection==0.1) (4.5.5.64)\n",
      "Requirement already satisfied: cycler>=0.10.0 in /opt/anaconda/lib/python3.8/site-packages (from lvis->object-detection==0.1) (0.10.0)\n",
      "Requirement already satisfied: kiwisolver>=1.1.0 in /opt/anaconda/lib/python3.8/site-packages (from lvis->object-detection==0.1) (1.3.1)\n"
     ]
    },
    {
     "name": "stdout",
     "output_type": "stream",
     "text": [
      "Requirement already satisfied: text-unidecode>=1.3 in /home/ovenoboyo/.local/lib/python3.8/site-packages (from python-slugify->kaggle>=1.3.9->tf-models-official>=2.5.1->object-detection==0.1) (1.3)\n",
      "Requirement already satisfied: colorama in /opt/anaconda/lib/python3.8/site-packages (from sacrebleu->tf-models-official>=2.5.1->object-detection==0.1) (0.4.4)\n",
      "Requirement already satisfied: portalocker in /home/ovenoboyo/.local/lib/python3.8/site-packages (from sacrebleu->tf-models-official>=2.5.1->object-detection==0.1) (2.4.0)\n",
      "Requirement already satisfied: tabulate>=0.8.9 in /home/ovenoboyo/.local/lib/python3.8/site-packages (from sacrebleu->tf-models-official>=2.5.1->object-detection==0.1) (0.8.9)\n",
      "Requirement already satisfied: regex in /opt/anaconda/lib/python3.8/site-packages (from sacrebleu->tf-models-official>=2.5.1->object-detection==0.1) (2021.4.4)\n",
      "Requirement already satisfied: scikit-learn>=0.21.3 in /opt/anaconda/lib/python3.8/site-packages (from seqeval->tf-models-official>=2.5.1->object-detection==0.1) (0.24.1)\n",
      "Requirement already satisfied: threadpoolctl>=2.0.0 in /opt/anaconda/lib/python3.8/site-packages (from scikit-learn>=0.21.3->seqeval->tf-models-official>=2.5.1->object-detection==0.1) (2.1.0)\n",
      "Requirement already satisfied: joblib>=0.11 in /opt/anaconda/lib/python3.8/site-packages (from scikit-learn>=0.21.3->seqeval->tf-models-official>=2.5.1->object-detection==0.1) (1.0.1)\n",
      "Requirement already satisfied: typeguard>=2.7 in /home/ovenoboyo/.local/lib/python3.8/site-packages (from tensorflow-addons->tf-models-official>=2.5.1->object-detection==0.1) (2.13.3)\n",
      "Requirement already satisfied: importlib-resources in /home/ovenoboyo/.local/lib/python3.8/site-packages (from tensorflow-datasets->tf-models-official>=2.5.1->object-detection==0.1) (5.7.1)\n",
      "Requirement already satisfied: promise in /home/ovenoboyo/.local/lib/python3.8/site-packages (from tensorflow-datasets->tf-models-official>=2.5.1->object-detection==0.1) (2.3)\n",
      "Requirement already satisfied: tensorflow-metadata in /home/ovenoboyo/.local/lib/python3.8/site-packages (from tensorflow-datasets->tf-models-official>=2.5.1->object-detection==0.1) (1.7.0)\n",
      "Building wheels for collected packages: object-detection\n",
      "  Building wheel for object-detection (setup.py) ... \u001b[?25ldone\n",
      "\u001b[?25h  Created wheel for object-detection: filename=object_detection-0.1-py3-none-any.whl size=1657764 sha256=91777cbb6b3e6850ebe45eeaa1c5af4536360d3d3680c96c77ce6bc87c37ad43\n",
      "  Stored in directory: /tmp/pip-ephem-wheel-cache-z17l26yf/wheels/16/24/ac/4656166192587b8b9c043268262805ca1fe2dfe25ce38ecfef\n",
      "Successfully built object-detection\n",
      "Installing collected packages: object-detection\n",
      "  Attempting uninstall: object-detection\n",
      "    Found existing installation: object-detection 0.1\n",
      "    Uninstalling object-detection-0.1:\n",
      "      Successfully uninstalled object-detection-0.1\n",
      "Successfully installed object-detection-0.1\n"
     ]
    }
   ],
   "source": [
    "!python -m pip install ."
   ]
  },
  {
   "cell_type": "code",
   "execution_count": 17,
   "metadata": {
    "colab": {
     "base_uri": "https://localhost:8080/"
    },
    "id": "Bo5jNFip01_x",
    "outputId": "3f955a1f-fc25-4eea-ff5e-61fe4bc3d776"
   },
   "outputs": [
    {
     "data": {
      "text/plain": [
       "'/home/ovenoboyo/projects/pbl/training/cloned_tfod2/research'"
      ]
     },
     "execution_count": 17,
     "metadata": {},
     "output_type": "execute_result"
    }
   ],
   "source": [
    "pwd"
   ]
  },
  {
   "cell_type": "code",
   "execution_count": 18,
   "metadata": {
    "id": "wAqaDZalSsmm"
   },
   "outputs": [],
   "source": [
    "# From within TensorFlow/models/research/\n",
    "# Passes successfully\n",
    "# !python object_detection/builders/model_builder_tf2_test.py "
   ]
  },
  {
   "cell_type": "markdown",
   "metadata": {
    "id": "H84wSklyaDSF"
   },
   "source": [
    "# pre trained models\n"
   ]
  },
  {
   "cell_type": "code",
   "execution_count": 19,
   "metadata": {
    "colab": {
     "base_uri": "https://localhost:8080/"
    },
    "id": "RGZky_bhS6ue",
    "outputId": "dc2ed067-97aa-4dda-fb5c-b33b809fe4c8"
   },
   "outputs": [
    {
     "name": "stdout",
     "output_type": "stream",
     "text": [
      "/home/ovenoboyo/projects/pbl/training/pretrained_models\n"
     ]
    }
   ],
   "source": [
    "cd /home/ovenoboyo/projects/pbl/training/pretrained_models"
   ]
  },
  {
   "cell_type": "code",
   "execution_count": 20,
   "metadata": {
    "id": "Iw-3wBC7e9la"
   },
   "outputs": [],
   "source": [
    "# downloading models from https://github.com/tensorflow/models/blob/master/research/object_detection/g3doc/tf2_detection_zoo.md\n",
    "# !wget http://download.tensorflow.org/models/object_detection/tf2/20200711/ssd_resnet50_v1_fpn_640x640_coco17_tpu-8.tar.gz "
   ]
  },
  {
   "cell_type": "code",
   "execution_count": 21,
   "metadata": {
    "id": "kdmLJSEMfQOf"
   },
   "outputs": [],
   "source": [
    "# !tar xvf ssd_resnet50_v1_fpn_640x640_coco17_tpu-8.tar.gz"
   ]
  },
  {
   "cell_type": "code",
   "execution_count": 22,
   "metadata": {
    "colab": {
     "base_uri": "https://localhost:8080/"
    },
    "id": "4Vus-0XrgXEG",
    "outputId": "5fac07c9-950d-48b9-8ac3-639c373e1a30"
   },
   "outputs": [
    {
     "data": {
      "text/plain": [
       "'/home/ovenoboyo/projects/pbl/training/pretrained_models'"
      ]
     },
     "execution_count": 22,
     "metadata": {},
     "output_type": "execute_result"
    }
   ],
   "source": [
    "pwd"
   ]
  },
  {
   "cell_type": "markdown",
   "metadata": {
    "id": "GxIyyE6hhQhc"
   },
   "source": [
    "# Creating tf records and labelmap"
   ]
  },
  {
   "cell_type": "code",
   "execution_count": 23,
   "metadata": {
    "id": "MtcU95hD6srp"
   },
   "outputs": [],
   "source": [
    "labels = [{'name':'fork', 'id':1}, {'name':'gun', 'id':2}, {'name':'knife', 'id':3}, {'name':'screwdriver', 'id':4}, {'name':'wrench', 'id':5}]"
   ]
  },
  {
   "cell_type": "code",
   "execution_count": 24,
   "metadata": {
    "colab": {
     "base_uri": "https://localhost:8080/"
    },
    "id": "2EIUHhXB7bDs",
    "outputId": "781e84e4-0163-43a2-9741-d3ee3846d667"
   },
   "outputs": [
    {
     "data": {
      "text/plain": [
       "[{'name': 'fork', 'id': 1},\n",
       " {'name': 'gun', 'id': 2},\n",
       " {'name': 'knife', 'id': 3},\n",
       " {'name': 'screwdriver', 'id': 4},\n",
       " {'name': 'wrench', 'id': 5}]"
      ]
     },
     "execution_count": 24,
     "metadata": {},
     "output_type": "execute_result"
    }
   ],
   "source": [
    "labels"
   ]
  },
  {
   "cell_type": "code",
   "execution_count": 25,
   "metadata": {
    "id": "sN1cydhl7d2-"
   },
   "outputs": [],
   "source": [
    "with open(r'/home/ovenoboyo/projects/pbl/training/annotations'+'/label_map.pbtxt', 'w') as f:\n",
    "    for label in labels:\n",
    "        f.write('item { \\n') \n",
    "        f.write('\\tname:\\'{}\\'\\n'.format(label['name'])) #writing item name in pbtxt file\n",
    "        f.write('\\tid:{}\\n'.format(label['id'])) #adding the id for item in pbtxt file\n",
    "        f.write('}\\n')\n",
    "#pbtxt are binary files, reqd by tf for making a label map in object detection "
   ]
  },
  {
   "cell_type": "code",
   "execution_count": 26,
   "metadata": {
    "id": "ry9iOlQ5hVbC"
   },
   "outputs": [],
   "source": [
    "# reference from cod1.ipynb section creating tf records"
   ]
  },
  {
   "cell_type": "code",
   "execution_count": 27,
   "metadata": {
    "colab": {
     "base_uri": "https://localhost:8080/"
    },
    "id": "1EC_KD9mGHPe",
    "outputId": "716b59b5-de8b-4e62-b634-46e957587317"
   },
   "outputs": [
    {
     "name": "stdout",
     "output_type": "stream",
     "text": [
      "/home/ovenoboyo/projects/pbl/training/scripts\n"
     ]
    }
   ],
   "source": [
    "cd /home/ovenoboyo/projects/pbl/training/scripts"
   ]
  },
  {
   "cell_type": "code",
   "execution_count": 28,
   "metadata": {
    "colab": {
     "base_uri": "https://localhost:8080/"
    },
    "id": "10mCx-wdEJnk",
    "outputId": "a4e7cf9e-6f7c-4658-e199-e5a6488f1022"
   },
   "outputs": [
    {
     "name": "stdout",
     "output_type": "stream",
     "text": [
      "Successfully created the TFRecord file: /home/ovenoboyo/projects/pbl/training/annotations/train.record\r\n"
     ]
    }
   ],
   "source": [
    "#train record\n",
    "!python generate_tfrecord.py -x /home/ovenoboyo/projects/pbl/training/images/train -l /home/ovenoboyo/projects/pbl/training/annotations/label_map.pbtxt -o /home/ovenoboyo/projects/pbl/training/annotations/train.record\n"
   ]
  },
  {
   "cell_type": "code",
   "execution_count": 29,
   "metadata": {
    "colab": {
     "base_uri": "https://localhost:8080/"
    },
    "id": "8nOykLoOLlj_",
    "outputId": "db43a87f-a1fe-446a-f455-4392e5979c8c"
   },
   "outputs": [
    {
     "name": "stdout",
     "output_type": "stream",
     "text": [
      "Successfully created the TFRecord file: /home/ovenoboyo/projects/pbl/training/annotations/test.record\r\n"
     ]
    }
   ],
   "source": [
    "#test record\n",
    "!python generate_tfrecord.py -x /home/ovenoboyo/projects/pbl/training/images/test -l /home/ovenoboyo/projects/pbl/training/annotations/label_map.pbtxt -o /home/ovenoboyo/projects/pbl/training/annotations/test.record\n"
   ]
  },
  {
   "cell_type": "markdown",
   "metadata": {
    "id": "4fdQh-mIiopl"
   },
   "source": [
    "altering pipeline.config from model folder"
   ]
  },
  {
   "cell_type": "code",
   "execution_count": 30,
   "metadata": {
    "id": "QA9Rt9_1h1nN"
   },
   "outputs": [],
   "source": [
    "# changes made are:\n",
    "# num_classes \n",
    "# and batch_size(8) line 131\n",
    "# line 161 fine tune checkpoint : path to ckpt-0.index\n",
    "# line 167 fine_tune_checkpoint_type: \"detection\"\n",
    "# use_bfloat16: false\n",
    "# line 172 in train_input_reader { paths of label map and train record}\n",
    "# in eval_input_reader { paths of label map and test record}\n",
    "# lines 152 and 162 - num of steps"
   ]
  },
  {
   "cell_type": "code",
   "execution_count": 31,
   "metadata": {
    "colab": {
     "base_uri": "https://localhost:8080/"
    },
    "id": "FoB_9dirkh6u",
    "outputId": "67bf9865-b784-4017-ed0a-07eb32431ce0"
   },
   "outputs": [
    {
     "data": {
      "text/plain": [
       "'/home/ovenoboyo/projects/pbl/training/scripts'"
      ]
     },
     "execution_count": 31,
     "metadata": {},
     "output_type": "execute_result"
    }
   ],
   "source": [
    "pwd"
   ]
  },
  {
   "cell_type": "code",
   "execution_count": 32,
   "metadata": {
    "colab": {
     "base_uri": "https://localhost:8080/"
    },
    "id": "mwoQtDeTPLVU",
    "outputId": "1975d42e-a34d-40b2-9024-8abca054a78e"
   },
   "outputs": [
    {
     "name": "stdout",
     "output_type": "stream",
     "text": [
      "/home/ovenoboyo/projects/pbl/training\n"
     ]
    }
   ],
   "source": [
    "cd /home/ovenoboyo/projects/pbl/training"
   ]
  },
  {
   "cell_type": "code",
   "execution_count": 33,
   "metadata": {
    "colab": {
     "base_uri": "https://localhost:8080/"
    },
    "id": "L8Vwma7xksEG",
    "outputId": "0039fdfd-52d4-4034-d2fe-fda178219bd1"
   },
   "outputs": [
    {
     "name": "stdout",
     "output_type": "stream",
     "text": [
      "\u001b[0m\u001b[01;34mannotations\u001b[0m/         export_tflite_graph_tf2.py  \u001b[01;34mpretrained_models\u001b[0m/\r\n",
      "\u001b[01;34mcloned_tfod2\u001b[0m/        \u001b[01;34mimages\u001b[0m/                     \u001b[01;34msaved_model\u001b[0m/\r\n",
      "Copy_of_pbl2a.ipynb  model_main_tf2.py           \u001b[01;34mscripts\u001b[0m/\r\n",
      "exporter_main_v2.py  \u001b[01;34mmodels\u001b[0m/\r\n"
     ]
    }
   ],
   "source": [
    "ls"
   ]
  },
  {
   "cell_type": "code",
   "execution_count": 34,
   "metadata": {
    "id": "uLbrWwVgkwv4"
   },
   "outputs": [],
   "source": [
    "# cd '/content/drive/MyDrive/ObjDec'"
   ]
  },
  {
   "cell_type": "code",
   "execution_count": 35,
   "metadata": {
    "id": "kytY7I6ik2Kh"
   },
   "outputs": [],
   "source": [
    "# ls"
   ]
  },
  {
   "cell_type": "markdown",
   "metadata": {
    "id": "sYMJJBGPk9u-"
   },
   "source": [
    "# training"
   ]
  },
  {
   "cell_type": "code",
   "execution_count": null,
   "metadata": {
    "colab": {
     "base_uri": "https://localhost:8080/"
    },
    "id": "IGCPasUxk3MX",
    "outputId": "35eb53cb-f0ed-4db9-a375-2cb75b47cd54"
   },
   "outputs": [
    {
     "name": "stdout",
     "output_type": "stream",
     "text": [
      "2022-04-20 12:34:58.429064: I tensorflow/core/platform/cpu_feature_guard.cc:151] This TensorFlow binary is optimized with oneAPI Deep Neural Network Library (oneDNN) to use the following CPU instructions in performance-critical operations:  AVX2 FMA\n",
      "To enable them in other operations, rebuild TensorFlow with the appropriate compiler flags.\n",
      "2022-04-20 12:34:58.951926: I tensorflow/core/common_runtime/gpu/gpu_device.cc:1525] Created device /job:localhost/replica:0/task:0/device:GPU:0 with 103 MB memory:  -> device: 0, name: NVIDIA GeForce GTX 1660, pci bus id: 0000:29:00.0, compute capability: 7.5\n",
      "INFO:tensorflow:Using MirroredStrategy with devices ('/job:localhost/replica:0/task:0/device:GPU:0',)\n",
      "I0420 12:34:58.960201 140497988081472 mirrored_strategy.py:374] Using MirroredStrategy with devices ('/job:localhost/replica:0/task:0/device:GPU:0',)\n",
      "INFO:tensorflow:Maybe overwriting train_steps: None\n",
      "I0420 12:34:58.964182 140497988081472 config_util.py:552] Maybe overwriting train_steps: None\n",
      "INFO:tensorflow:Maybe overwriting use_bfloat16: False\n",
      "I0420 12:34:58.964251 140497988081472 config_util.py:552] Maybe overwriting use_bfloat16: False\n",
      "WARNING:tensorflow:From /home/ovenoboyo/.local/lib/python3.8/site-packages/object_detection/model_lib_v2.py:563: StrategyBase.experimental_distribute_datasets_from_function (from tensorflow.python.distribute.distribute_lib) is deprecated and will be removed in a future version.\n",
      "Instructions for updating:\n",
      "rename to distribute_datasets_from_function\n",
      "W0420 12:34:58.979955 140497988081472 deprecation.py:337] From /home/ovenoboyo/.local/lib/python3.8/site-packages/object_detection/model_lib_v2.py:563: StrategyBase.experimental_distribute_datasets_from_function (from tensorflow.python.distribute.distribute_lib) is deprecated and will be removed in a future version.\n",
      "Instructions for updating:\n",
      "rename to distribute_datasets_from_function\n",
      "INFO:tensorflow:Reading unweighted datasets: ['/home/ovenoboyo/projects/pbl/training/annotations/train.record']\n",
      "I0420 12:34:58.982442 140497988081472 dataset_builder.py:162] Reading unweighted datasets: ['/home/ovenoboyo/projects/pbl/training/annotations/train.record']\n",
      "INFO:tensorflow:Reading record datasets for input file: ['/home/ovenoboyo/projects/pbl/training/annotations/train.record']\n",
      "I0420 12:34:58.982532 140497988081472 dataset_builder.py:79] Reading record datasets for input file: ['/home/ovenoboyo/projects/pbl/training/annotations/train.record']\n",
      "INFO:tensorflow:Number of filenames to read: 1\n",
      "I0420 12:34:58.982573 140497988081472 dataset_builder.py:80] Number of filenames to read: 1\n",
      "WARNING:tensorflow:num_readers has been reduced to 1 to match input file shards.\n",
      "W0420 12:34:58.982608 140497988081472 dataset_builder.py:86] num_readers has been reduced to 1 to match input file shards.\n",
      "WARNING:tensorflow:From /home/ovenoboyo/.local/lib/python3.8/site-packages/object_detection/builders/dataset_builder.py:100: parallel_interleave (from tensorflow.python.data.experimental.ops.interleave_ops) is deprecated and will be removed in a future version.\n",
      "Instructions for updating:\n",
      "Use `tf.data.Dataset.interleave(map_func, cycle_length, block_length, num_parallel_calls=tf.data.AUTOTUNE)` instead. If sloppy execution is desired, use `tf.data.Options.deterministic`.\n",
      "W0420 12:34:58.985869 140497988081472 deprecation.py:337] From /home/ovenoboyo/.local/lib/python3.8/site-packages/object_detection/builders/dataset_builder.py:100: parallel_interleave (from tensorflow.python.data.experimental.ops.interleave_ops) is deprecated and will be removed in a future version.\n",
      "Instructions for updating:\n",
      "Use `tf.data.Dataset.interleave(map_func, cycle_length, block_length, num_parallel_calls=tf.data.AUTOTUNE)` instead. If sloppy execution is desired, use `tf.data.Options.deterministic`.\n",
      "WARNING:tensorflow:From /home/ovenoboyo/.local/lib/python3.8/site-packages/object_detection/builders/dataset_builder.py:235: DatasetV1.map_with_legacy_function (from tensorflow.python.data.ops.dataset_ops) is deprecated and will be removed in a future version.\n",
      "Instructions for updating:\n",
      "Use `tf.data.Dataset.map()\n",
      "W0420 12:34:59.000195 140497988081472 deprecation.py:337] From /home/ovenoboyo/.local/lib/python3.8/site-packages/object_detection/builders/dataset_builder.py:235: DatasetV1.map_with_legacy_function (from tensorflow.python.data.ops.dataset_ops) is deprecated and will be removed in a future version.\n",
      "Instructions for updating:\n",
      "Use `tf.data.Dataset.map()\n",
      "WARNING:tensorflow:From /home/ovenoboyo/.local/lib/python3.8/site-packages/tensorflow/python/util/dispatch.py:1082: sparse_to_dense (from tensorflow.python.ops.sparse_ops) is deprecated and will be removed in a future version.\n",
      "Instructions for updating:\n",
      "Create a `tf.sparse.SparseTensor` and use `tf.sparse.to_dense` instead.\n",
      "W0420 12:35:03.894982 140497988081472 deprecation.py:337] From /home/ovenoboyo/.local/lib/python3.8/site-packages/tensorflow/python/util/dispatch.py:1082: sparse_to_dense (from tensorflow.python.ops.sparse_ops) is deprecated and will be removed in a future version.\n",
      "Instructions for updating:\n",
      "Create a `tf.sparse.SparseTensor` and use `tf.sparse.to_dense` instead.\n",
      "WARNING:tensorflow:From /home/ovenoboyo/.local/lib/python3.8/site-packages/tensorflow/python/util/dispatch.py:1082: sample_distorted_bounding_box (from tensorflow.python.ops.image_ops_impl) is deprecated and will be removed in a future version.\n",
      "Instructions for updating:\n",
      "`seed2` arg is deprecated.Use sample_distorted_bounding_box_v2 instead.\n",
      "W0420 12:35:05.944476 140497988081472 deprecation.py:337] From /home/ovenoboyo/.local/lib/python3.8/site-packages/tensorflow/python/util/dispatch.py:1082: sample_distorted_bounding_box (from tensorflow.python.ops.image_ops_impl) is deprecated and will be removed in a future version.\n",
      "Instructions for updating:\n",
      "`seed2` arg is deprecated.Use sample_distorted_bounding_box_v2 instead.\n",
      "WARNING:tensorflow:From /home/ovenoboyo/.local/lib/python3.8/site-packages/tensorflow/python/util/dispatch.py:1082: to_float (from tensorflow.python.ops.math_ops) is deprecated and will be removed in a future version.\n",
      "Instructions for updating:\n",
      "Use `tf.cast` instead.\n",
      "W0420 12:35:07.075201 140497988081472 deprecation.py:337] From /home/ovenoboyo/.local/lib/python3.8/site-packages/tensorflow/python/util/dispatch.py:1082: to_float (from tensorflow.python.ops.math_ops) is deprecated and will be removed in a future version.\n",
      "Instructions for updating:\n",
      "Use `tf.cast` instead.\n",
      "2022-04-20 12:35:09.471573: W tensorflow/core/framework/cpu_allocator_impl.cc:82] Allocation of 29491200 exceeds 10% of free system memory.\n",
      "2022-04-20 12:35:09.474853: W tensorflow/core/framework/cpu_allocator_impl.cc:82] Allocation of 24000000 exceeds 10% of free system memory.\n",
      "2022-04-20 12:35:09.481318: W tensorflow/core/framework/cpu_allocator_impl.cc:82] Allocation of 29514240 exceeds 10% of free system memory.\n",
      "2022-04-20 12:35:09.518448: W tensorflow/core/framework/cpu_allocator_impl.cc:82] Allocation of 29491200 exceeds 10% of free system memory.\n",
      "2022-04-20 12:35:09.587799: W tensorflow/core/framework/cpu_allocator_impl.cc:82] Allocation of 17280000 exceeds 10% of free system memory.\n",
      "2022-04-20 12:35:20.766936: W tensorflow/core/common_runtime/bfc_allocator.cc:462] Allocator (GPU_0_bfc) ran out of memory trying to allocate 64B (rounded to 256)requested by op SameWorkerRecvDone\n",
      "If the cause is memory fragmentation maybe the environment variable 'TF_GPU_ALLOCATOR=cuda_malloc_async' will improve the situation. \n",
      "Current allocation summary follows.\n",
      "Current allocation summary follows.\n",
      "2022-04-20 12:35:20.766965: I tensorflow/core/common_runtime/bfc_allocator.cc:1010] BFCAllocator dump for GPU_0_bfc\n",
      "2022-04-20 12:35:20.766979: I tensorflow/core/common_runtime/bfc_allocator.cc:1017] Bin (256): \tTotal Chunks: 13, Chunks in use: 13. 3.2KiB allocated for chunks. 3.2KiB in use in bin. 788B client-requested in use in bin.\n",
      "2022-04-20 12:35:20.766991: I tensorflow/core/common_runtime/bfc_allocator.cc:1017] Bin (512): \tTotal Chunks: 0, Chunks in use: 0. 0B allocated for chunks. 0B in use in bin. 0B client-requested in use in bin.\n",
      "2022-04-20 12:35:20.766998: I tensorflow/core/common_runtime/bfc_allocator.cc:1017] Bin (1024): \tTotal Chunks: 3, Chunks in use: 3. 3.2KiB allocated for chunks. 3.2KiB in use in bin. 2.6KiB client-requested in use in bin.\n",
      "2022-04-20 12:35:20.767004: I tensorflow/core/common_runtime/bfc_allocator.cc:1017] Bin (2048): \tTotal Chunks: 3, Chunks in use: 3. 9.8KiB allocated for chunks. 9.8KiB in use in bin. 9.4KiB client-requested in use in bin.\n",
      "2022-04-20 12:35:20.767010: I tensorflow/core/common_runtime/bfc_allocator.cc:1017] Bin (4096): \tTotal Chunks: 0, Chunks in use: 0. 0B allocated for chunks. 0B in use in bin. 0B client-requested in use in bin.\n",
      "2022-04-20 12:35:20.767017: I tensorflow/core/common_runtime/bfc_allocator.cc:1017] Bin (8192): \tTotal Chunks: 3, Chunks in use: 3. 44.0KiB allocated for chunks. 44.0KiB in use in bin. 43.8KiB client-requested in use in bin.\n",
      "2022-04-20 12:35:20.767023: I tensorflow/core/common_runtime/bfc_allocator.cc:1017] Bin (16384): \tTotal Chunks: 0, Chunks in use: 0. 0B allocated for chunks. 0B in use in bin. 0B client-requested in use in bin.\n",
      "2022-04-20 12:35:20.767028: I tensorflow/core/common_runtime/bfc_allocator.cc:1017] Bin (32768): \tTotal Chunks: 0, Chunks in use: 0. 0B allocated for chunks. 0B in use in bin. 0B client-requested in use in bin.\n",
      "2022-04-20 12:35:20.767034: I tensorflow/core/common_runtime/bfc_allocator.cc:1017] Bin (65536): \tTotal Chunks: 0, Chunks in use: 0. 0B allocated for chunks. 0B in use in bin. 0B client-requested in use in bin.\n",
      "2022-04-20 12:35:20.767039: I tensorflow/core/common_runtime/bfc_allocator.cc:1017] Bin (131072): \tTotal Chunks: 0, Chunks in use: 0. 0B allocated for chunks. 0B in use in bin. 0B client-requested in use in bin.\n",
      "2022-04-20 12:35:20.767045: I tensorflow/core/common_runtime/bfc_allocator.cc:1017] Bin (262144): \tTotal Chunks: 0, Chunks in use: 0. 0B allocated for chunks. 0B in use in bin. 0B client-requested in use in bin.\n",
      "2022-04-20 12:35:20.767050: I tensorflow/core/common_runtime/bfc_allocator.cc:1017] Bin (524288): \tTotal Chunks: 0, Chunks in use: 0. 0B allocated for chunks. 0B in use in bin. 0B client-requested in use in bin.\n",
      "2022-04-20 12:35:20.767056: I tensorflow/core/common_runtime/bfc_allocator.cc:1017] Bin (1048576): \tTotal Chunks: 0, Chunks in use: 0. 0B allocated for chunks. 0B in use in bin. 0B client-requested in use in bin.\n",
      "2022-04-20 12:35:20.767061: I tensorflow/core/common_runtime/bfc_allocator.cc:1017] Bin (2097152): \tTotal Chunks: 0, Chunks in use: 0. 0B allocated for chunks. 0B in use in bin. 0B client-requested in use in bin.\n",
      "2022-04-20 12:35:20.767067: I tensorflow/core/common_runtime/bfc_allocator.cc:1017] Bin (4194304): \tTotal Chunks: 0, Chunks in use: 0. 0B allocated for chunks. 0B in use in bin. 0B client-requested in use in bin.\n",
      "2022-04-20 12:35:20.767072: I tensorflow/core/common_runtime/bfc_allocator.cc:1017] Bin (8388608): \tTotal Chunks: 0, Chunks in use: 0. 0B allocated for chunks. 0B in use in bin. 0B client-requested in use in bin.\n",
      "2022-04-20 12:35:20.767078: I tensorflow/core/common_runtime/bfc_allocator.cc:1017] Bin (16777216): \tTotal Chunks: 0, Chunks in use: 0. 0B allocated for chunks. 0B in use in bin. 0B client-requested in use in bin.\n",
      "2022-04-20 12:35:20.767084: I tensorflow/core/common_runtime/bfc_allocator.cc:1017] Bin (33554432): \tTotal Chunks: 1, Chunks in use: 1. 37.50MiB allocated for chunks. 37.50MiB in use in bin. 37.50MiB client-requested in use in bin.\n",
      "2022-04-20 12:35:20.767091: I tensorflow/core/common_runtime/bfc_allocator.cc:1017] Bin (67108864): \tTotal Chunks: 1, Chunks in use: 1. 66.25MiB allocated for chunks. 66.25MiB in use in bin. 37.50MiB client-requested in use in bin.\n",
      "2022-04-20 12:35:20.767096: I tensorflow/core/common_runtime/bfc_allocator.cc:1017] Bin (134217728): \tTotal Chunks: 0, Chunks in use: 0. 0B allocated for chunks. 0B in use in bin. 0B client-requested in use in bin.\n",
      "2022-04-20 12:35:20.767102: I tensorflow/core/common_runtime/bfc_allocator.cc:1017] Bin (268435456): \tTotal Chunks: 0, Chunks in use: 0. 0B allocated for chunks. 0B in use in bin. 0B client-requested in use in bin.\n",
      "2022-04-20 12:35:20.767108: I tensorflow/core/common_runtime/bfc_allocator.cc:1033] Bin for 256B was 256B, Chunk State: \n",
      "2022-04-20 12:35:20.767112: I tensorflow/core/common_runtime/bfc_allocator.cc:1046] Next region of size 108855296\n",
      "2022-04-20 12:35:20.767120: I tensorflow/core/common_runtime/bfc_allocator.cc:1066] InUse at 7fc6c8000000 of size 256 next 1\n",
      "2022-04-20 12:35:20.767125: I tensorflow/core/common_runtime/bfc_allocator.cc:1066] InUse at 7fc6c8000100 of size 1280 next 2\n",
      "2022-04-20 12:35:20.767130: I tensorflow/core/common_runtime/bfc_allocator.cc:1066] InUse at 7fc6c8000600 of size 256 next 3\n",
      "2022-04-20 12:35:20.767134: I tensorflow/core/common_runtime/bfc_allocator.cc:1066] InUse at 7fc6c8000700 of size 256 next 4\n",
      "2022-04-20 12:35:20.767139: I tensorflow/core/common_runtime/bfc_allocator.cc:1066] InUse at 7fc6c8000800 of size 256 next 5\n",
      "2022-04-20 12:35:20.767144: I tensorflow/core/common_runtime/bfc_allocator.cc:1066] InUse at 7fc6c8000900 of size 256 next 6\n",
      "2022-04-20 12:35:20.767148: I tensorflow/core/common_runtime/bfc_allocator.cc:1066] InUse at 7fc6c8000a00 of size 256 next 7\n",
      "2022-04-20 12:35:20.767153: I tensorflow/core/common_runtime/bfc_allocator.cc:1066] InUse at 7fc6c8000b00 of size 39321600 next 8\n",
      "2022-04-20 12:35:20.767157: I tensorflow/core/common_runtime/bfc_allocator.cc:1066] InUse at 7fc6ca580b00 of size 256 next 9\n",
      "2022-04-20 12:35:20.767162: I tensorflow/core/common_runtime/bfc_allocator.cc:1066] InUse at 7fc6ca580c00 of size 256 next 10\n",
      "2022-04-20 12:35:20.767167: I tensorflow/core/common_runtime/bfc_allocator.cc:1066] InUse at 7fc6ca580d00 of size 3328 next 11\n",
      "2022-04-20 12:35:20.767171: I tensorflow/core/common_runtime/bfc_allocator.cc:1066] InUse at 7fc6ca581a00 of size 12800 next 12\n",
      "2022-04-20 12:35:20.767175: I tensorflow/core/common_runtime/bfc_allocator.cc:1066] InUse at 7fc6ca584c00 of size 16128 next 13\n",
      "2022-04-20 12:35:20.767180: I tensorflow/core/common_runtime/bfc_allocator.cc:1066] InUse at 7fc6ca588b00 of size 16128 next 14\n",
      "2022-04-20 12:35:20.767185: I tensorflow/core/common_runtime/bfc_allocator.cc:1066] InUse at 7fc6ca58ca00 of size 3328 next 15\n",
      "2022-04-20 12:35:20.767189: I tensorflow/core/common_runtime/bfc_allocator.cc:1066] InUse at 7fc6ca58d700 of size 1024 next 16\n",
      "2022-04-20 12:35:20.767194: I tensorflow/core/common_runtime/bfc_allocator.cc:1066] InUse at 7fc6ca58db00 of size 256 next 17\n",
      "2022-04-20 12:35:20.767198: I tensorflow/core/common_runtime/bfc_allocator.cc:1066] InUse at 7fc6ca58dc00 of size 1024 next 18\n",
      "2022-04-20 12:35:20.767203: I tensorflow/core/common_runtime/bfc_allocator.cc:1066] InUse at 7fc6ca58e000 of size 256 next 19\n",
      "2022-04-20 12:35:20.767207: I tensorflow/core/common_runtime/bfc_allocator.cc:1066] InUse at 7fc6ca58e100 of size 256 next 20\n",
      "2022-04-20 12:35:20.767211: I tensorflow/core/common_runtime/bfc_allocator.cc:1066] InUse at 7fc6ca58e200 of size 3328 next 21\n",
      "2022-04-20 12:35:20.767216: I tensorflow/core/common_runtime/bfc_allocator.cc:1066] InUse at 7fc6ca58ef00 of size 256 next 22\n",
      "2022-04-20 12:35:20.767220: I tensorflow/core/common_runtime/bfc_allocator.cc:1066] InUse at 7fc6ca58f000 of size 256 next 23\n",
      "2022-04-20 12:35:20.767225: I tensorflow/core/common_runtime/bfc_allocator.cc:1066] InUse at 7fc6ca58f100 of size 69472000 next 18446744073709551615\n",
      "2022-04-20 12:35:20.767229: I tensorflow/core/common_runtime/bfc_allocator.cc:1071]      Summary of in-use Chunks by size: \n",
      "2022-04-20 12:35:20.767235: I tensorflow/core/common_runtime/bfc_allocator.cc:1074] 13 Chunks of size 256 totalling 3.2KiB\n",
      "2022-04-20 12:35:20.767241: I tensorflow/core/common_runtime/bfc_allocator.cc:1074] 2 Chunks of size 1024 totalling 2.0KiB\n",
      "2022-04-20 12:35:20.767245: I tensorflow/core/common_runtime/bfc_allocator.cc:1074] 1 Chunks of size 1280 totalling 1.2KiB\n",
      "2022-04-20 12:35:20.767250: I tensorflow/core/common_runtime/bfc_allocator.cc:1074] 3 Chunks of size 3328 totalling 9.8KiB\n",
      "2022-04-20 12:35:20.767255: I tensorflow/core/common_runtime/bfc_allocator.cc:1074] 1 Chunks of size 12800 totalling 12.5KiB\n",
      "2022-04-20 12:35:20.767260: I tensorflow/core/common_runtime/bfc_allocator.cc:1074] 2 Chunks of size 16128 totalling 31.5KiB\n",
      "2022-04-20 12:35:20.767265: I tensorflow/core/common_runtime/bfc_allocator.cc:1074] 1 Chunks of size 39321600 totalling 37.50MiB\n",
      "2022-04-20 12:35:20.767270: I tensorflow/core/common_runtime/bfc_allocator.cc:1074] 1 Chunks of size 69472000 totalling 66.25MiB\n",
      "2022-04-20 12:35:20.767275: I tensorflow/core/common_runtime/bfc_allocator.cc:1078] Sum Total of in-use chunks: 103.81MiB\n",
      "2022-04-20 12:35:20.767280: I tensorflow/core/common_runtime/bfc_allocator.cc:1080] total_region_allocated_bytes_: 108855296 memory_limit_: 108855296 available bytes: 0 curr_region_allocation_bytes_: 217710592\n",
      "2022-04-20 12:35:20.767288: I tensorflow/core/common_runtime/bfc_allocator.cc:1086] Stats: \n",
      "Limit:                       108855296\n",
      "InUse:                       108855296\n",
      "MaxInUse:                    108855296\n",
      "NumAllocs:                          29\n",
      "MaxAllocSize:                 69472000\n",
      "Reserved:                            0\n",
      "PeakReserved:                        0\n",
      "LargestFreeBlock:                    0\n",
      "\n",
      "2022-04-20 12:35:20.767297: W tensorflow/core/common_runtime/bfc_allocator.cc:474] *************************************************************************xxxxxxxxxxxxxxxxxxxxxxxxxxx\n"
     ]
    },
    {
     "name": "stdout",
     "output_type": "stream",
     "text": [
      "2022-04-20 12:35:30.767425: W tensorflow/core/common_runtime/bfc_allocator.cc:462] Allocator (GPU_0_bfc) ran out of memory trying to allocate 96B (rounded to 256)requested by op SameWorkerRecvDone\r\n",
      "If the cause is memory fragmentation maybe the environment variable 'TF_GPU_ALLOCATOR=cuda_malloc_async' will improve the situation. \r\n",
      "Current allocation summary follows.\r\n",
      "Current allocation summary follows.\r\n",
      "2022-04-20 12:35:30.767451: I tensorflow/core/common_runtime/bfc_allocator.cc:1010] BFCAllocator dump for GPU_0_bfc\r\n",
      "2022-04-20 12:35:30.767461: I tensorflow/core/common_runtime/bfc_allocator.cc:1017] Bin (256): \tTotal Chunks: 13, Chunks in use: 13. 3.2KiB allocated for chunks. 3.2KiB in use in bin. 788B client-requested in use in bin.\r\n",
      "2022-04-20 12:35:30.767466: I tensorflow/core/common_runtime/bfc_allocator.cc:1017] Bin (512): \tTotal Chunks: 0, Chunks in use: 0. 0B allocated for chunks. 0B in use in bin. 0B client-requested in use in bin.\r\n",
      "2022-04-20 12:35:30.767472: I tensorflow/core/common_runtime/bfc_allocator.cc:1017] Bin (1024): \tTotal Chunks: 3, Chunks in use: 3. 3.2KiB allocated for chunks. 3.2KiB in use in bin. 2.6KiB client-requested in use in bin.\r\n",
      "2022-04-20 12:35:30.767479: I tensorflow/core/common_runtime/bfc_allocator.cc:1017] Bin (2048): \tTotal Chunks: 3, Chunks in use: 3. 9.8KiB allocated for chunks. 9.8KiB in use in bin. 9.4KiB client-requested in use in bin.\r\n",
      "2022-04-20 12:35:30.767484: I tensorflow/core/common_runtime/bfc_allocator.cc:1017] Bin (4096): \tTotal Chunks: 0, Chunks in use: 0. 0B allocated for chunks. 0B in use in bin. 0B client-requested in use in bin.\r\n",
      "2022-04-20 12:35:30.767490: I tensorflow/core/common_runtime/bfc_allocator.cc:1017] Bin (8192): \tTotal Chunks: 3, Chunks in use: 3. 44.0KiB allocated for chunks. 44.0KiB in use in bin. 43.8KiB client-requested in use in bin.\r\n",
      "2022-04-20 12:35:30.767496: I tensorflow/core/common_runtime/bfc_allocator.cc:1017] Bin (16384): \tTotal Chunks: 0, Chunks in use: 0. 0B allocated for chunks. 0B in use in bin. 0B client-requested in use in bin.\r\n",
      "2022-04-20 12:35:30.767501: I tensorflow/core/common_runtime/bfc_allocator.cc:1017] Bin (32768): \tTotal Chunks: 0, Chunks in use: 0. 0B allocated for chunks. 0B in use in bin. 0B client-requested in use in bin.\r\n",
      "2022-04-20 12:35:30.767506: I tensorflow/core/common_runtime/bfc_allocator.cc:1017] Bin (65536): \tTotal Chunks: 0, Chunks in use: 0. 0B allocated for chunks. 0B in use in bin. 0B client-requested in use in bin.\r\n",
      "2022-04-20 12:35:30.767511: I tensorflow/core/common_runtime/bfc_allocator.cc:1017] Bin (131072): \tTotal Chunks: 0, Chunks in use: 0. 0B allocated for chunks. 0B in use in bin. 0B client-requested in use in bin.\r\n",
      "2022-04-20 12:35:30.767516: I tensorflow/core/common_runtime/bfc_allocator.cc:1017] Bin (262144): \tTotal Chunks: 0, Chunks in use: 0. 0B allocated for chunks. 0B in use in bin. 0B client-requested in use in bin.\r\n",
      "2022-04-20 12:35:30.767521: I tensorflow/core/common_runtime/bfc_allocator.cc:1017] Bin (524288): \tTotal Chunks: 0, Chunks in use: 0. 0B allocated for chunks. 0B in use in bin. 0B client-requested in use in bin.\r\n",
      "2022-04-20 12:35:30.767527: I tensorflow/core/common_runtime/bfc_allocator.cc:1017] Bin (1048576): \tTotal Chunks: 0, Chunks in use: 0. 0B allocated for chunks. 0B in use in bin. 0B client-requested in use in bin.\r\n",
      "2022-04-20 12:35:30.767532: I tensorflow/core/common_runtime/bfc_allocator.cc:1017] Bin (2097152): \tTotal Chunks: 0, Chunks in use: 0. 0B allocated for chunks. 0B in use in bin. 0B client-requested in use in bin.\r\n",
      "2022-04-20 12:35:30.767537: I tensorflow/core/common_runtime/bfc_allocator.cc:1017] Bin (4194304): \tTotal Chunks: 0, Chunks in use: 0. 0B allocated for chunks. 0B in use in bin. 0B client-requested in use in bin.\r\n",
      "2022-04-20 12:35:30.767542: I tensorflow/core/common_runtime/bfc_allocator.cc:1017] Bin (8388608): \tTotal Chunks: 0, Chunks in use: 0. 0B allocated for chunks. 0B in use in bin. 0B client-requested in use in bin.\r\n",
      "2022-04-20 12:35:30.767547: I tensorflow/core/common_runtime/bfc_allocator.cc:1017] Bin (16777216): \tTotal Chunks: 0, Chunks in use: 0. 0B allocated for chunks. 0B in use in bin. 0B client-requested in use in bin.\r\n",
      "2022-04-20 12:35:30.767553: I tensorflow/core/common_runtime/bfc_allocator.cc:1017] Bin (33554432): \tTotal Chunks: 1, Chunks in use: 1. 37.50MiB allocated for chunks. 37.50MiB in use in bin. 37.50MiB client-requested in use in bin.\r\n",
      "2022-04-20 12:35:30.767559: I tensorflow/core/common_runtime/bfc_allocator.cc:1017] Bin (67108864): \tTotal Chunks: 1, Chunks in use: 1. 66.25MiB allocated for chunks. 66.25MiB in use in bin. 37.50MiB client-requested in use in bin.\r\n",
      "2022-04-20 12:35:30.767565: I tensorflow/core/common_runtime/bfc_allocator.cc:1017] Bin (134217728): \tTotal Chunks: 0, Chunks in use: 0. 0B allocated for chunks. 0B in use in bin. 0B client-requested in use in bin.\r\n",
      "2022-04-20 12:35:30.767570: I tensorflow/core/common_runtime/bfc_allocator.cc:1017] Bin (268435456): \tTotal Chunks: 0, Chunks in use: 0. 0B allocated for chunks. 0B in use in bin. 0B client-requested in use in bin.\r\n",
      "2022-04-20 12:35:30.767575: I tensorflow/core/common_runtime/bfc_allocator.cc:1033] Bin for 256B was 256B, Chunk State: \r\n",
      "2022-04-20 12:35:30.767579: I tensorflow/core/common_runtime/bfc_allocator.cc:1046] Next region of size 108855296\r\n",
      "2022-04-20 12:35:30.767587: I tensorflow/core/common_runtime/bfc_allocator.cc:1066] InUse at 7fc6c8000000 of size 256 next 1\r\n",
      "2022-04-20 12:35:30.767592: I tensorflow/core/common_runtime/bfc_allocator.cc:1066] InUse at 7fc6c8000100 of size 1280 next 2\r\n",
      "2022-04-20 12:35:30.767596: I tensorflow/core/common_runtime/bfc_allocator.cc:1066] InUse at 7fc6c8000600 of size 256 next 3\r\n",
      "2022-04-20 12:35:30.767600: I tensorflow/core/common_runtime/bfc_allocator.cc:1066] InUse at 7fc6c8000700 of size 256 next 4\r\n",
      "2022-04-20 12:35:30.767605: I tensorflow/core/common_runtime/bfc_allocator.cc:1066] InUse at 7fc6c8000800 of size 256 next 5\r\n",
      "2022-04-20 12:35:30.767609: I tensorflow/core/common_runtime/bfc_allocator.cc:1066] InUse at 7fc6c8000900 of size 256 next 6\r\n",
      "2022-04-20 12:35:30.767613: I tensorflow/core/common_runtime/bfc_allocator.cc:1066] InUse at 7fc6c8000a00 of size 256 next 7\r\n",
      "2022-04-20 12:35:30.767617: I tensorflow/core/common_runtime/bfc_allocator.cc:1066] InUse at 7fc6c8000b00 of size 39321600 next 8\r\n",
      "2022-04-20 12:35:30.767622: I tensorflow/core/common_runtime/bfc_allocator.cc:1066] InUse at 7fc6ca580b00 of size 256 next 9\r\n",
      "2022-04-20 12:35:30.767626: I tensorflow/core/common_runtime/bfc_allocator.cc:1066] InUse at 7fc6ca580c00 of size 256 next 10\r\n",
      "2022-04-20 12:35:30.767630: I tensorflow/core/common_runtime/bfc_allocator.cc:1066] InUse at 7fc6ca580d00 of size 3328 next 11\r\n",
      "2022-04-20 12:35:30.767635: I tensorflow/core/common_runtime/bfc_allocator.cc:1066] InUse at 7fc6ca581a00 of size 12800 next 12\r\n",
      "2022-04-20 12:35:30.767639: I tensorflow/core/common_runtime/bfc_allocator.cc:1066] InUse at 7fc6ca584c00 of size 16128 next 13\r\n",
      "2022-04-20 12:35:30.767645: I tensorflow/core/common_runtime/bfc_allocator.cc:1066] InUse at 7fc6ca588b00 of size 16128 next 14\r\n",
      "2022-04-20 12:35:30.767651: I tensorflow/core/common_runtime/bfc_allocator.cc:1066] InUse at 7fc6ca58ca00 of size 3328 next 15\r\n",
      "2022-04-20 12:35:30.767657: I tensorflow/core/common_runtime/bfc_allocator.cc:1066] InUse at 7fc6ca58d700 of size 1024 next 16\r\n",
      "2022-04-20 12:35:30.767662: I tensorflow/core/common_runtime/bfc_allocator.cc:1066] InUse at 7fc6ca58db00 of size 256 next 17\r\n",
      "2022-04-20 12:35:30.767668: I tensorflow/core/common_runtime/bfc_allocator.cc:1066] InUse at 7fc6ca58dc00 of size 1024 next 18\r\n",
      "2022-04-20 12:35:30.767674: I tensorflow/core/common_runtime/bfc_allocator.cc:1066] InUse at 7fc6ca58e000 of size 256 next 19\r\n",
      "2022-04-20 12:35:30.767679: I tensorflow/core/common_runtime/bfc_allocator.cc:1066] InUse at 7fc6ca58e100 of size 256 next 20\r\n",
      "2022-04-20 12:35:30.767685: I tensorflow/core/common_runtime/bfc_allocator.cc:1066] InUse at 7fc6ca58e200 of size 3328 next 21\r\n",
      "2022-04-20 12:35:30.767690: I tensorflow/core/common_runtime/bfc_allocator.cc:1066] InUse at 7fc6ca58ef00 of size 256 next 22\r\n",
      "2022-04-20 12:35:30.767696: I tensorflow/core/common_runtime/bfc_allocator.cc:1066] InUse at 7fc6ca58f000 of size 256 next 23\r\n",
      "2022-04-20 12:35:30.767702: I tensorflow/core/common_runtime/bfc_allocator.cc:1066] InUse at 7fc6ca58f100 of size 69472000 next 18446744073709551615\r\n",
      "2022-04-20 12:35:30.767706: I tensorflow/core/common_runtime/bfc_allocator.cc:1071]      Summary of in-use Chunks by size: \r\n",
      "2022-04-20 12:35:30.767713: I tensorflow/core/common_runtime/bfc_allocator.cc:1074] 13 Chunks of size 256 totalling 3.2KiB\r\n",
      "2022-04-20 12:35:30.767719: I tensorflow/core/common_runtime/bfc_allocator.cc:1074] 2 Chunks of size 1024 totalling 2.0KiB\r\n",
      "2022-04-20 12:35:30.767725: I tensorflow/core/common_runtime/bfc_allocator.cc:1074] 1 Chunks of size 1280 totalling 1.2KiB\r\n",
      "2022-04-20 12:35:30.767730: I tensorflow/core/common_runtime/bfc_allocator.cc:1074] 3 Chunks of size 3328 totalling 9.8KiB\r\n",
      "2022-04-20 12:35:30.767736: I tensorflow/core/common_runtime/bfc_allocator.cc:1074] 1 Chunks of size 12800 totalling 12.5KiB\r\n",
      "2022-04-20 12:35:30.767741: I tensorflow/core/common_runtime/bfc_allocator.cc:1074] 2 Chunks of size 16128 totalling 31.5KiB\r\n",
      "2022-04-20 12:35:30.767747: I tensorflow/core/common_runtime/bfc_allocator.cc:1074] 1 Chunks of size 39321600 totalling 37.50MiB\r\n",
      "2022-04-20 12:35:30.767753: I tensorflow/core/common_runtime/bfc_allocator.cc:1074] 1 Chunks of size 69472000 totalling 66.25MiB\r\n",
      "2022-04-20 12:35:30.767759: I tensorflow/core/common_runtime/bfc_allocator.cc:1078] Sum Total of in-use chunks: 103.81MiB\r\n",
      "2022-04-20 12:35:30.767764: I tensorflow/core/common_runtime/bfc_allocator.cc:1080] total_region_allocated_bytes_: 108855296 memory_limit_: 108855296 available bytes: 0 curr_region_allocation_bytes_: 217710592\r\n",
      "2022-04-20 12:35:30.767772: I tensorflow/core/common_runtime/bfc_allocator.cc:1086] Stats: \r\n",
      "Limit:                       108855296\r\n",
      "InUse:                       108855296\r\n",
      "MaxInUse:                    108855296\r\n",
      "NumAllocs:                          29\r\n",
      "MaxAllocSize:                 69472000\r\n",
      "Reserved:                            0\r\n",
      "PeakReserved:                        0\r\n",
      "LargestFreeBlock:                    0\r\n",
      "\r\n",
      "2022-04-20 12:35:30.767782: W tensorflow/core/common_runtime/bfc_allocator.cc:474] *************************************************************************xxxxxxxxxxxxxxxxxxxxxxxxxxx\r\n"
     ]
    },
    {
     "name": "stdout",
     "output_type": "stream",
     "text": [
      "2022-04-20 12:35:40.767914: W tensorflow/core/common_runtime/bfc_allocator.cc:462] Allocator (GPU_0_bfc) ran out of memory trying to allocate 3.1KiB (rounded to 3328)requested by op SameWorkerRecvDone\r\n",
      "If the cause is memory fragmentation maybe the environment variable 'TF_GPU_ALLOCATOR=cuda_malloc_async' will improve the situation. \r\n",
      "Current allocation summary follows.\r\n",
      "Current allocation summary follows.\r\n",
      "2022-04-20 12:35:40.767942: I tensorflow/core/common_runtime/bfc_allocator.cc:1010] BFCAllocator dump for GPU_0_bfc\r\n",
      "2022-04-20 12:35:40.767951: I tensorflow/core/common_runtime/bfc_allocator.cc:1017] Bin (256): \tTotal Chunks: 13, Chunks in use: 13. 3.2KiB allocated for chunks. 3.2KiB in use in bin. 788B client-requested in use in bin.\r\n",
      "2022-04-20 12:35:40.767958: I tensorflow/core/common_runtime/bfc_allocator.cc:1017] Bin (512): \tTotal Chunks: 0, Chunks in use: 0. 0B allocated for chunks. 0B in use in bin. 0B client-requested in use in bin.\r\n",
      "2022-04-20 12:35:40.767964: I tensorflow/core/common_runtime/bfc_allocator.cc:1017] Bin (1024): \tTotal Chunks: 3, Chunks in use: 3. 3.2KiB allocated for chunks. 3.2KiB in use in bin. 2.6KiB client-requested in use in bin.\r\n",
      "2022-04-20 12:35:40.767970: I tensorflow/core/common_runtime/bfc_allocator.cc:1017] Bin (2048): \tTotal Chunks: 3, Chunks in use: 3. 9.8KiB allocated for chunks. 9.8KiB in use in bin. 9.4KiB client-requested in use in bin.\r\n",
      "2022-04-20 12:35:40.767975: I tensorflow/core/common_runtime/bfc_allocator.cc:1017] Bin (4096): \tTotal Chunks: 0, Chunks in use: 0. 0B allocated for chunks. 0B in use in bin. 0B client-requested in use in bin.\r\n",
      "2022-04-20 12:35:40.767982: I tensorflow/core/common_runtime/bfc_allocator.cc:1017] Bin (8192): \tTotal Chunks: 3, Chunks in use: 3. 44.0KiB allocated for chunks. 44.0KiB in use in bin. 43.8KiB client-requested in use in bin.\r\n",
      "2022-04-20 12:35:40.767987: I tensorflow/core/common_runtime/bfc_allocator.cc:1017] Bin (16384): \tTotal Chunks: 0, Chunks in use: 0. 0B allocated for chunks. 0B in use in bin. 0B client-requested in use in bin.\r\n",
      "2022-04-20 12:35:40.767993: I tensorflow/core/common_runtime/bfc_allocator.cc:1017] Bin (32768): \tTotal Chunks: 0, Chunks in use: 0. 0B allocated for chunks. 0B in use in bin. 0B client-requested in use in bin.\r\n",
      "2022-04-20 12:35:40.767998: I tensorflow/core/common_runtime/bfc_allocator.cc:1017] Bin (65536): \tTotal Chunks: 0, Chunks in use: 0. 0B allocated for chunks. 0B in use in bin. 0B client-requested in use in bin.\r\n",
      "2022-04-20 12:35:40.768003: I tensorflow/core/common_runtime/bfc_allocator.cc:1017] Bin (131072): \tTotal Chunks: 0, Chunks in use: 0. 0B allocated for chunks. 0B in use in bin. 0B client-requested in use in bin.\r\n",
      "2022-04-20 12:35:40.768008: I tensorflow/core/common_runtime/bfc_allocator.cc:1017] Bin (262144): \tTotal Chunks: 0, Chunks in use: 0. 0B allocated for chunks. 0B in use in bin. 0B client-requested in use in bin.\r\n",
      "2022-04-20 12:35:40.768013: I tensorflow/core/common_runtime/bfc_allocator.cc:1017] Bin (524288): \tTotal Chunks: 0, Chunks in use: 0. 0B allocated for chunks. 0B in use in bin. 0B client-requested in use in bin.\r\n",
      "2022-04-20 12:35:40.768019: I tensorflow/core/common_runtime/bfc_allocator.cc:1017] Bin (1048576): \tTotal Chunks: 0, Chunks in use: 0. 0B allocated for chunks. 0B in use in bin. 0B client-requested in use in bin.\r\n",
      "2022-04-20 12:35:40.768024: I tensorflow/core/common_runtime/bfc_allocator.cc:1017] Bin (2097152): \tTotal Chunks: 0, Chunks in use: 0. 0B allocated for chunks. 0B in use in bin. 0B client-requested in use in bin.\r\n",
      "2022-04-20 12:35:40.768029: I tensorflow/core/common_runtime/bfc_allocator.cc:1017] Bin (4194304): \tTotal Chunks: 0, Chunks in use: 0. 0B allocated for chunks. 0B in use in bin. 0B client-requested in use in bin.\r\n",
      "2022-04-20 12:35:40.768034: I tensorflow/core/common_runtime/bfc_allocator.cc:1017] Bin (8388608): \tTotal Chunks: 0, Chunks in use: 0. 0B allocated for chunks. 0B in use in bin. 0B client-requested in use in bin.\r\n",
      "2022-04-20 12:35:40.768040: I tensorflow/core/common_runtime/bfc_allocator.cc:1017] Bin (16777216): \tTotal Chunks: 0, Chunks in use: 0. 0B allocated for chunks. 0B in use in bin. 0B client-requested in use in bin.\r\n",
      "2022-04-20 12:35:40.768046: I tensorflow/core/common_runtime/bfc_allocator.cc:1017] Bin (33554432): \tTotal Chunks: 1, Chunks in use: 1. 37.50MiB allocated for chunks. 37.50MiB in use in bin. 37.50MiB client-requested in use in bin.\r\n",
      "2022-04-20 12:35:40.768052: I tensorflow/core/common_runtime/bfc_allocator.cc:1017] Bin (67108864): \tTotal Chunks: 1, Chunks in use: 1. 66.25MiB allocated for chunks. 66.25MiB in use in bin. 37.50MiB client-requested in use in bin.\r\n",
      "2022-04-20 12:35:40.768057: I tensorflow/core/common_runtime/bfc_allocator.cc:1017] Bin (134217728): \tTotal Chunks: 0, Chunks in use: 0. 0B allocated for chunks. 0B in use in bin. 0B client-requested in use in bin.\r\n",
      "2022-04-20 12:35:40.768063: I tensorflow/core/common_runtime/bfc_allocator.cc:1017] Bin (268435456): \tTotal Chunks: 0, Chunks in use: 0. 0B allocated for chunks. 0B in use in bin. 0B client-requested in use in bin.\r\n",
      "2022-04-20 12:35:40.768068: I tensorflow/core/common_runtime/bfc_allocator.cc:1033] Bin for 3.2KiB was 2.0KiB, Chunk State: \r\n",
      "2022-04-20 12:35:40.768073: I tensorflow/core/common_runtime/bfc_allocator.cc:1046] Next region of size 108855296\r\n",
      "2022-04-20 12:35:40.768081: I tensorflow/core/common_runtime/bfc_allocator.cc:1066] InUse at 7fc6c8000000 of size 256 next 1\r\n",
      "2022-04-20 12:35:40.768085: I tensorflow/core/common_runtime/bfc_allocator.cc:1066] InUse at 7fc6c8000100 of size 1280 next 2\r\n",
      "2022-04-20 12:35:40.768089: I tensorflow/core/common_runtime/bfc_allocator.cc:1066] InUse at 7fc6c8000600 of size 256 next 3\r\n",
      "2022-04-20 12:35:40.768094: I tensorflow/core/common_runtime/bfc_allocator.cc:1066] InUse at 7fc6c8000700 of size 256 next 4\r\n",
      "2022-04-20 12:35:40.768098: I tensorflow/core/common_runtime/bfc_allocator.cc:1066] InUse at 7fc6c8000800 of size 256 next 5\r\n",
      "2022-04-20 12:35:40.768102: I tensorflow/core/common_runtime/bfc_allocator.cc:1066] InUse at 7fc6c8000900 of size 256 next 6\r\n",
      "2022-04-20 12:35:40.768106: I tensorflow/core/common_runtime/bfc_allocator.cc:1066] InUse at 7fc6c8000a00 of size 256 next 7\r\n",
      "2022-04-20 12:35:40.768111: I tensorflow/core/common_runtime/bfc_allocator.cc:1066] InUse at 7fc6c8000b00 of size 39321600 next 8\r\n",
      "2022-04-20 12:35:40.768115: I tensorflow/core/common_runtime/bfc_allocator.cc:1066] InUse at 7fc6ca580b00 of size 256 next 9\r\n",
      "2022-04-20 12:35:40.768119: I tensorflow/core/common_runtime/bfc_allocator.cc:1066] InUse at 7fc6ca580c00 of size 256 next 10\r\n",
      "2022-04-20 12:35:40.768124: I tensorflow/core/common_runtime/bfc_allocator.cc:1066] InUse at 7fc6ca580d00 of size 3328 next 11\r\n",
      "2022-04-20 12:35:40.768128: I tensorflow/core/common_runtime/bfc_allocator.cc:1066] InUse at 7fc6ca581a00 of size 12800 next 12\r\n",
      "2022-04-20 12:35:40.768133: I tensorflow/core/common_runtime/bfc_allocator.cc:1066] InUse at 7fc6ca584c00 of size 16128 next 13\r\n",
      "2022-04-20 12:35:40.768137: I tensorflow/core/common_runtime/bfc_allocator.cc:1066] InUse at 7fc6ca588b00 of size 16128 next 14\r\n",
      "2022-04-20 12:35:40.768141: I tensorflow/core/common_runtime/bfc_allocator.cc:1066] InUse at 7fc6ca58ca00 of size 3328 next 15\r\n",
      "2022-04-20 12:35:40.768146: I tensorflow/core/common_runtime/bfc_allocator.cc:1066] InUse at 7fc6ca58d700 of size 1024 next 16\r\n",
      "2022-04-20 12:35:40.768150: I tensorflow/core/common_runtime/bfc_allocator.cc:1066] InUse at 7fc6ca58db00 of size 256 next 17\r\n",
      "2022-04-20 12:35:40.768154: I tensorflow/core/common_runtime/bfc_allocator.cc:1066] InUse at 7fc6ca58dc00 of size 1024 next 18\r\n",
      "2022-04-20 12:35:40.768158: I tensorflow/core/common_runtime/bfc_allocator.cc:1066] InUse at 7fc6ca58e000 of size 256 next 19\r\n",
      "2022-04-20 12:35:40.768163: I tensorflow/core/common_runtime/bfc_allocator.cc:1066] InUse at 7fc6ca58e100 of size 256 next 20\r\n",
      "2022-04-20 12:35:40.768167: I tensorflow/core/common_runtime/bfc_allocator.cc:1066] InUse at 7fc6ca58e200 of size 3328 next 21\r\n",
      "2022-04-20 12:35:40.768171: I tensorflow/core/common_runtime/bfc_allocator.cc:1066] InUse at 7fc6ca58ef00 of size 256 next 22\r\n",
      "2022-04-20 12:35:40.768175: I tensorflow/core/common_runtime/bfc_allocator.cc:1066] InUse at 7fc6ca58f000 of size 256 next 23\r\n",
      "2022-04-20 12:35:40.768180: I tensorflow/core/common_runtime/bfc_allocator.cc:1066] InUse at 7fc6ca58f100 of size 69472000 next 18446744073709551615\r\n",
      "2022-04-20 12:35:40.768185: I tensorflow/core/common_runtime/bfc_allocator.cc:1071]      Summary of in-use Chunks by size: \r\n",
      "2022-04-20 12:35:40.768190: I tensorflow/core/common_runtime/bfc_allocator.cc:1074] 13 Chunks of size 256 totalling 3.2KiB\r\n",
      "2022-04-20 12:35:40.768195: I tensorflow/core/common_runtime/bfc_allocator.cc:1074] 2 Chunks of size 1024 totalling 2.0KiB\r\n",
      "2022-04-20 12:35:40.768200: I tensorflow/core/common_runtime/bfc_allocator.cc:1074] 1 Chunks of size 1280 totalling 1.2KiB\r\n",
      "2022-04-20 12:35:40.768204: I tensorflow/core/common_runtime/bfc_allocator.cc:1074] 3 Chunks of size 3328 totalling 9.8KiB\r\n",
      "2022-04-20 12:35:40.768209: I tensorflow/core/common_runtime/bfc_allocator.cc:1074] 1 Chunks of size 12800 totalling 12.5KiB\r\n",
      "2022-04-20 12:35:40.768214: I tensorflow/core/common_runtime/bfc_allocator.cc:1074] 2 Chunks of size 16128 totalling 31.5KiB\r\n"
     ]
    },
    {
     "name": "stdout",
     "output_type": "stream",
     "text": [
      "2022-04-20 12:35:40.768219: I tensorflow/core/common_runtime/bfc_allocator.cc:1074] 1 Chunks of size 39321600 totalling 37.50MiB\n",
      "2022-04-20 12:35:40.768223: I tensorflow/core/common_runtime/bfc_allocator.cc:1074] 1 Chunks of size 69472000 totalling 66.25MiB\n",
      "2022-04-20 12:35:40.768228: I tensorflow/core/common_runtime/bfc_allocator.cc:1078] Sum Total of in-use chunks: 103.81MiB\n",
      "2022-04-20 12:35:40.768232: I tensorflow/core/common_runtime/bfc_allocator.cc:1080] total_region_allocated_bytes_: 108855296 memory_limit_: 108855296 available bytes: 0 curr_region_allocation_bytes_: 217710592\n",
      "2022-04-20 12:35:40.768240: I tensorflow/core/common_runtime/bfc_allocator.cc:1086] Stats: \n",
      "Limit:                       108855296\n",
      "InUse:                       108855296\n",
      "MaxInUse:                    108855296\n",
      "NumAllocs:                          29\n",
      "MaxAllocSize:                 69472000\n",
      "Reserved:                            0\n",
      "PeakReserved:                        0\n",
      "LargestFreeBlock:                    0\n",
      "\n",
      "2022-04-20 12:35:40.768249: W tensorflow/core/common_runtime/bfc_allocator.cc:474] *************************************************************************xxxxxxxxxxxxxxxxxxxxxxxxxxx\n",
      "2022-04-20 12:35:50.768381: W tensorflow/core/common_runtime/bfc_allocator.cc:462] Allocator (GPU_0_bfc) ran out of memory trying to allocate 12.5KiB (rounded to 12800)requested by op SameWorkerRecvDone\n",
      "If the cause is memory fragmentation maybe the environment variable 'TF_GPU_ALLOCATOR=cuda_malloc_async' will improve the situation. \n",
      "Current allocation summary follows.\n",
      "Current allocation summary follows.\n",
      "2022-04-20 12:35:50.768411: I tensorflow/core/common_runtime/bfc_allocator.cc:1010] BFCAllocator dump for GPU_0_bfc\n",
      "2022-04-20 12:35:50.768419: I tensorflow/core/common_runtime/bfc_allocator.cc:1017] Bin (256): \tTotal Chunks: 13, Chunks in use: 13. 3.2KiB allocated for chunks. 3.2KiB in use in bin. 788B client-requested in use in bin.\n",
      "2022-04-20 12:35:50.768426: I tensorflow/core/common_runtime/bfc_allocator.cc:1017] Bin (512): \tTotal Chunks: 0, Chunks in use: 0. 0B allocated for chunks. 0B in use in bin. 0B client-requested in use in bin.\n",
      "2022-04-20 12:35:50.768432: I tensorflow/core/common_runtime/bfc_allocator.cc:1017] Bin (1024): \tTotal Chunks: 3, Chunks in use: 3. 3.2KiB allocated for chunks. 3.2KiB in use in bin. 2.6KiB client-requested in use in bin.\n",
      "2022-04-20 12:35:50.768438: I tensorflow/core/common_runtime/bfc_allocator.cc:1017] Bin (2048): \tTotal Chunks: 3, Chunks in use: 3. 9.8KiB allocated for chunks. 9.8KiB in use in bin. 9.4KiB client-requested in use in bin.\n",
      "2022-04-20 12:35:50.768444: I tensorflow/core/common_runtime/bfc_allocator.cc:1017] Bin (4096): \tTotal Chunks: 0, Chunks in use: 0. 0B allocated for chunks. 0B in use in bin. 0B client-requested in use in bin.\n",
      "2022-04-20 12:35:50.768450: I tensorflow/core/common_runtime/bfc_allocator.cc:1017] Bin (8192): \tTotal Chunks: 3, Chunks in use: 3. 44.0KiB allocated for chunks. 44.0KiB in use in bin. 43.8KiB client-requested in use in bin.\n",
      "2022-04-20 12:35:50.768456: I tensorflow/core/common_runtime/bfc_allocator.cc:1017] Bin (16384): \tTotal Chunks: 0, Chunks in use: 0. 0B allocated for chunks. 0B in use in bin. 0B client-requested in use in bin.\n",
      "2022-04-20 12:35:50.768461: I tensorflow/core/common_runtime/bfc_allocator.cc:1017] Bin (32768): \tTotal Chunks: 0, Chunks in use: 0. 0B allocated for chunks. 0B in use in bin. 0B client-requested in use in bin.\n",
      "2022-04-20 12:35:50.768467: I tensorflow/core/common_runtime/bfc_allocator.cc:1017] Bin (65536): \tTotal Chunks: 0, Chunks in use: 0. 0B allocated for chunks. 0B in use in bin. 0B client-requested in use in bin.\n",
      "2022-04-20 12:35:50.768473: I tensorflow/core/common_runtime/bfc_allocator.cc:1017] Bin (131072): \tTotal Chunks: 0, Chunks in use: 0. 0B allocated for chunks. 0B in use in bin. 0B client-requested in use in bin.\n",
      "2022-04-20 12:35:50.768478: I tensorflow/core/common_runtime/bfc_allocator.cc:1017] Bin (262144): \tTotal Chunks: 0, Chunks in use: 0. 0B allocated for chunks. 0B in use in bin. 0B client-requested in use in bin.\n",
      "2022-04-20 12:35:50.768484: I tensorflow/core/common_runtime/bfc_allocator.cc:1017] Bin (524288): \tTotal Chunks: 0, Chunks in use: 0. 0B allocated for chunks. 0B in use in bin. 0B client-requested in use in bin.\n",
      "2022-04-20 12:35:50.768489: I tensorflow/core/common_runtime/bfc_allocator.cc:1017] Bin (1048576): \tTotal Chunks: 0, Chunks in use: 0. 0B allocated for chunks. 0B in use in bin. 0B client-requested in use in bin.\n",
      "2022-04-20 12:35:50.768495: I tensorflow/core/common_runtime/bfc_allocator.cc:1017] Bin (2097152): \tTotal Chunks: 0, Chunks in use: 0. 0B allocated for chunks. 0B in use in bin. 0B client-requested in use in bin.\n",
      "2022-04-20 12:35:50.768500: I tensorflow/core/common_runtime/bfc_allocator.cc:1017] Bin (4194304): \tTotal Chunks: 0, Chunks in use: 0. 0B allocated for chunks. 0B in use in bin. 0B client-requested in use in bin.\n",
      "2022-04-20 12:35:50.768506: I tensorflow/core/common_runtime/bfc_allocator.cc:1017] Bin (8388608): \tTotal Chunks: 0, Chunks in use: 0. 0B allocated for chunks. 0B in use in bin. 0B client-requested in use in bin.\n",
      "2022-04-20 12:35:50.768511: I tensorflow/core/common_runtime/bfc_allocator.cc:1017] Bin (16777216): \tTotal Chunks: 0, Chunks in use: 0. 0B allocated for chunks. 0B in use in bin. 0B client-requested in use in bin.\n",
      "2022-04-20 12:35:50.768518: I tensorflow/core/common_runtime/bfc_allocator.cc:1017] Bin (33554432): \tTotal Chunks: 1, Chunks in use: 1. 37.50MiB allocated for chunks. 37.50MiB in use in bin. 37.50MiB client-requested in use in bin.\n",
      "2022-04-20 12:35:50.768524: I tensorflow/core/common_runtime/bfc_allocator.cc:1017] Bin (67108864): \tTotal Chunks: 1, Chunks in use: 1. 66.25MiB allocated for chunks. 66.25MiB in use in bin. 37.50MiB client-requested in use in bin.\n",
      "2022-04-20 12:35:50.768530: I tensorflow/core/common_runtime/bfc_allocator.cc:1017] Bin (134217728): \tTotal Chunks: 0, Chunks in use: 0. 0B allocated for chunks. 0B in use in bin. 0B client-requested in use in bin.\n",
      "2022-04-20 12:35:50.768535: I tensorflow/core/common_runtime/bfc_allocator.cc:1017] Bin (268435456): \tTotal Chunks: 0, Chunks in use: 0. 0B allocated for chunks. 0B in use in bin. 0B client-requested in use in bin.\n",
      "2022-04-20 12:35:50.768542: I tensorflow/core/common_runtime/bfc_allocator.cc:1033] Bin for 12.5KiB was 8.0KiB, Chunk State: \n",
      "2022-04-20 12:35:50.768546: I tensorflow/core/common_runtime/bfc_allocator.cc:1046] Next region of size 108855296\n",
      "2022-04-20 12:35:50.768554: I tensorflow/core/common_runtime/bfc_allocator.cc:1066] InUse at 7fc6c8000000 of size 256 next 1\n",
      "2022-04-20 12:35:50.768559: I tensorflow/core/common_runtime/bfc_allocator.cc:1066] InUse at 7fc6c8000100 of size 1280 next 2\n",
      "2022-04-20 12:35:50.768564: I tensorflow/core/common_runtime/bfc_allocator.cc:1066] InUse at 7fc6c8000600 of size 256 next 3\n",
      "2022-04-20 12:35:50.768568: I tensorflow/core/common_runtime/bfc_allocator.cc:1066] InUse at 7fc6c8000700 of size 256 next 4\n",
      "2022-04-20 12:35:50.768572: I tensorflow/core/common_runtime/bfc_allocator.cc:1066] InUse at 7fc6c8000800 of size 256 next 5\n",
      "2022-04-20 12:35:50.768577: I tensorflow/core/common_runtime/bfc_allocator.cc:1066] InUse at 7fc6c8000900 of size 256 next 6\n",
      "2022-04-20 12:35:50.768581: I tensorflow/core/common_runtime/bfc_allocator.cc:1066] InUse at 7fc6c8000a00 of size 256 next 7\n",
      "2022-04-20 12:35:50.768586: I tensorflow/core/common_runtime/bfc_allocator.cc:1066] InUse at 7fc6c8000b00 of size 39321600 next 8\n",
      "2022-04-20 12:35:50.768590: I tensorflow/core/common_runtime/bfc_allocator.cc:1066] InUse at 7fc6ca580b00 of size 256 next 9\n",
      "2022-04-20 12:35:50.768594: I tensorflow/core/common_runtime/bfc_allocator.cc:1066] InUse at 7fc6ca580c00 of size 256 next 10\n",
      "2022-04-20 12:35:50.768599: I tensorflow/core/common_runtime/bfc_allocator.cc:1066] InUse at 7fc6ca580d00 of size 3328 next 11\n",
      "2022-04-20 12:35:50.768604: I tensorflow/core/common_runtime/bfc_allocator.cc:1066] InUse at 7fc6ca581a00 of size 12800 next 12\n",
      "2022-04-20 12:35:50.768608: I tensorflow/core/common_runtime/bfc_allocator.cc:1066] InUse at 7fc6ca584c00 of size 16128 next 13\n",
      "2022-04-20 12:35:50.768613: I tensorflow/core/common_runtime/bfc_allocator.cc:1066] InUse at 7fc6ca588b00 of size 16128 next 14\n",
      "2022-04-20 12:35:50.768618: I tensorflow/core/common_runtime/bfc_allocator.cc:1066] InUse at 7fc6ca58ca00 of size 3328 next 15\n",
      "2022-04-20 12:35:50.768622: I tensorflow/core/common_runtime/bfc_allocator.cc:1066] InUse at 7fc6ca58d700 of size 1024 next 16\n",
      "2022-04-20 12:35:50.768627: I tensorflow/core/common_runtime/bfc_allocator.cc:1066] InUse at 7fc6ca58db00 of size 256 next 17\n",
      "2022-04-20 12:35:50.768631: I tensorflow/core/common_runtime/bfc_allocator.cc:1066] InUse at 7fc6ca58dc00 of size 1024 next 18\n",
      "2022-04-20 12:35:50.768636: I tensorflow/core/common_runtime/bfc_allocator.cc:1066] InUse at 7fc6ca58e000 of size 256 next 19\n",
      "2022-04-20 12:35:50.768640: I tensorflow/core/common_runtime/bfc_allocator.cc:1066] InUse at 7fc6ca58e100 of size 256 next 20\n",
      "2022-04-20 12:35:50.768645: I tensorflow/core/common_runtime/bfc_allocator.cc:1066] InUse at 7fc6ca58e200 of size 3328 next 21\n",
      "2022-04-20 12:35:50.768649: I tensorflow/core/common_runtime/bfc_allocator.cc:1066] InUse at 7fc6ca58ef00 of size 256 next 22\n",
      "2022-04-20 12:35:50.768653: I tensorflow/core/common_runtime/bfc_allocator.cc:1066] InUse at 7fc6ca58f000 of size 256 next 23\n",
      "2022-04-20 12:35:50.768658: I tensorflow/core/common_runtime/bfc_allocator.cc:1066] InUse at 7fc6ca58f100 of size 69472000 next 18446744073709551615\n",
      "2022-04-20 12:35:50.768662: I tensorflow/core/common_runtime/bfc_allocator.cc:1071]      Summary of in-use Chunks by size: \n",
      "2022-04-20 12:35:50.768668: I tensorflow/core/common_runtime/bfc_allocator.cc:1074] 13 Chunks of size 256 totalling 3.2KiB\n",
      "2022-04-20 12:35:50.768673: I tensorflow/core/common_runtime/bfc_allocator.cc:1074] 2 Chunks of size 1024 totalling 2.0KiB\n",
      "2022-04-20 12:35:50.768678: I tensorflow/core/common_runtime/bfc_allocator.cc:1074] 1 Chunks of size 1280 totalling 1.2KiB\n",
      "2022-04-20 12:35:50.768683: I tensorflow/core/common_runtime/bfc_allocator.cc:1074] 3 Chunks of size 3328 totalling 9.8KiB\n",
      "2022-04-20 12:35:50.768687: I tensorflow/core/common_runtime/bfc_allocator.cc:1074] 1 Chunks of size 12800 totalling 12.5KiB\n",
      "2022-04-20 12:35:50.768692: I tensorflow/core/common_runtime/bfc_allocator.cc:1074] 2 Chunks of size 16128 totalling 31.5KiB\n",
      "2022-04-20 12:35:50.768697: I tensorflow/core/common_runtime/bfc_allocator.cc:1074] 1 Chunks of size 39321600 totalling 37.50MiB\n",
      "2022-04-20 12:35:50.768702: I tensorflow/core/common_runtime/bfc_allocator.cc:1074] 1 Chunks of size 69472000 totalling 66.25MiB\n",
      "2022-04-20 12:35:50.768707: I tensorflow/core/common_runtime/bfc_allocator.cc:1078] Sum Total of in-use chunks: 103.81MiB\n",
      "2022-04-20 12:35:50.768712: I tensorflow/core/common_runtime/bfc_allocator.cc:1080] total_region_allocated_bytes_: 108855296 memory_limit_: 108855296 available bytes: 0 curr_region_allocation_bytes_: 217710592\n",
      "2022-04-20 12:35:50.768719: I tensorflow/core/common_runtime/bfc_allocator.cc:1086] Stats: \n",
      "Limit:                       108855296\n",
      "InUse:                       108855296\n",
      "MaxInUse:                    108855296\n",
      "NumAllocs:                          29\n",
      "MaxAllocSize:                 69472000\n",
      "Reserved:                            0\n",
      "PeakReserved:                        0\n",
      "LargestFreeBlock:                    0\n",
      "\n",
      "2022-04-20 12:35:50.768728: W tensorflow/core/common_runtime/bfc_allocator.cc:474] *************************************************************************xxxxxxxxxxxxxxxxxxxxxxxxxxx\n"
     ]
    },
    {
     "name": "stdout",
     "output_type": "stream",
     "text": [
      "2022-04-20 12:36:00.768856: W tensorflow/core/common_runtime/bfc_allocator.cc:462] Allocator (GPU_0_bfc) ran out of memory trying to allocate 15.6KiB (rounded to 16128)requested by op SameWorkerRecvDone\r\n",
      "If the cause is memory fragmentation maybe the environment variable 'TF_GPU_ALLOCATOR=cuda_malloc_async' will improve the situation. \r\n",
      "Current allocation summary follows.\r\n",
      "Current allocation summary follows.\r\n",
      "2022-04-20 12:36:00.768887: I tensorflow/core/common_runtime/bfc_allocator.cc:1010] BFCAllocator dump for GPU_0_bfc\r\n",
      "2022-04-20 12:36:00.768898: I tensorflow/core/common_runtime/bfc_allocator.cc:1017] Bin (256): \tTotal Chunks: 13, Chunks in use: 13. 3.2KiB allocated for chunks. 3.2KiB in use in bin. 788B client-requested in use in bin.\r\n",
      "2022-04-20 12:36:00.768905: I tensorflow/core/common_runtime/bfc_allocator.cc:1017] Bin (512): \tTotal Chunks: 0, Chunks in use: 0. 0B allocated for chunks. 0B in use in bin. 0B client-requested in use in bin.\r\n",
      "2022-04-20 12:36:00.768912: I tensorflow/core/common_runtime/bfc_allocator.cc:1017] Bin (1024): \tTotal Chunks: 3, Chunks in use: 3. 3.2KiB allocated for chunks. 3.2KiB in use in bin. 2.6KiB client-requested in use in bin.\r\n",
      "2022-04-20 12:36:00.768920: I tensorflow/core/common_runtime/bfc_allocator.cc:1017] Bin (2048): \tTotal Chunks: 3, Chunks in use: 3. 9.8KiB allocated for chunks. 9.8KiB in use in bin. 9.4KiB client-requested in use in bin.\r\n",
      "2022-04-20 12:36:00.768928: I tensorflow/core/common_runtime/bfc_allocator.cc:1017] Bin (4096): \tTotal Chunks: 0, Chunks in use: 0. 0B allocated for chunks. 0B in use in bin. 0B client-requested in use in bin.\r\n",
      "2022-04-20 12:36:00.768934: I tensorflow/core/common_runtime/bfc_allocator.cc:1017] Bin (8192): \tTotal Chunks: 3, Chunks in use: 3. 44.0KiB allocated for chunks. 44.0KiB in use in bin. 43.8KiB client-requested in use in bin.\r\n",
      "2022-04-20 12:36:00.768940: I tensorflow/core/common_runtime/bfc_allocator.cc:1017] Bin (16384): \tTotal Chunks: 0, Chunks in use: 0. 0B allocated for chunks. 0B in use in bin. 0B client-requested in use in bin.\r\n",
      "2022-04-20 12:36:00.768945: I tensorflow/core/common_runtime/bfc_allocator.cc:1017] Bin (32768): \tTotal Chunks: 0, Chunks in use: 0. 0B allocated for chunks. 0B in use in bin. 0B client-requested in use in bin.\r\n",
      "2022-04-20 12:36:00.768950: I tensorflow/core/common_runtime/bfc_allocator.cc:1017] Bin (65536): \tTotal Chunks: 0, Chunks in use: 0. 0B allocated for chunks. 0B in use in bin. 0B client-requested in use in bin.\r\n",
      "2022-04-20 12:36:00.768955: I tensorflow/core/common_runtime/bfc_allocator.cc:1017] Bin (131072): \tTotal Chunks: 0, Chunks in use: 0. 0B allocated for chunks. 0B in use in bin. 0B client-requested in use in bin.\r\n",
      "2022-04-20 12:36:00.768960: I tensorflow/core/common_runtime/bfc_allocator.cc:1017] Bin (262144): \tTotal Chunks: 0, Chunks in use: 0. 0B allocated for chunks. 0B in use in bin. 0B client-requested in use in bin.\r\n",
      "2022-04-20 12:36:00.768965: I tensorflow/core/common_runtime/bfc_allocator.cc:1017] Bin (524288): \tTotal Chunks: 0, Chunks in use: 0. 0B allocated for chunks. 0B in use in bin. 0B client-requested in use in bin.\r\n",
      "2022-04-20 12:36:00.768971: I tensorflow/core/common_runtime/bfc_allocator.cc:1017] Bin (1048576): \tTotal Chunks: 0, Chunks in use: 0. 0B allocated for chunks. 0B in use in bin. 0B client-requested in use in bin.\r\n",
      "2022-04-20 12:36:00.768976: I tensorflow/core/common_runtime/bfc_allocator.cc:1017] Bin (2097152): \tTotal Chunks: 0, Chunks in use: 0. 0B allocated for chunks. 0B in use in bin. 0B client-requested in use in bin.\r\n",
      "2022-04-20 12:36:00.768981: I tensorflow/core/common_runtime/bfc_allocator.cc:1017] Bin (4194304): \tTotal Chunks: 0, Chunks in use: 0. 0B allocated for chunks. 0B in use in bin. 0B client-requested in use in bin.\r\n",
      "2022-04-20 12:36:00.768986: I tensorflow/core/common_runtime/bfc_allocator.cc:1017] Bin (8388608): \tTotal Chunks: 0, Chunks in use: 0. 0B allocated for chunks. 0B in use in bin. 0B client-requested in use in bin.\r\n",
      "2022-04-20 12:36:00.768991: I tensorflow/core/common_runtime/bfc_allocator.cc:1017] Bin (16777216): \tTotal Chunks: 0, Chunks in use: 0. 0B allocated for chunks. 0B in use in bin. 0B client-requested in use in bin.\r\n",
      "2022-04-20 12:36:00.768997: I tensorflow/core/common_runtime/bfc_allocator.cc:1017] Bin (33554432): \tTotal Chunks: 1, Chunks in use: 1. 37.50MiB allocated for chunks. 37.50MiB in use in bin. 37.50MiB client-requested in use in bin.\r\n",
      "2022-04-20 12:36:00.769004: I tensorflow/core/common_runtime/bfc_allocator.cc:1017] Bin (67108864): \tTotal Chunks: 1, Chunks in use: 1. 66.25MiB allocated for chunks. 66.25MiB in use in bin. 37.50MiB client-requested in use in bin.\r\n",
      "2022-04-20 12:36:00.769009: I tensorflow/core/common_runtime/bfc_allocator.cc:1017] Bin (134217728): \tTotal Chunks: 0, Chunks in use: 0. 0B allocated for chunks. 0B in use in bin. 0B client-requested in use in bin.\r\n",
      "2022-04-20 12:36:00.769014: I tensorflow/core/common_runtime/bfc_allocator.cc:1017] Bin (268435456): \tTotal Chunks: 0, Chunks in use: 0. 0B allocated for chunks. 0B in use in bin. 0B client-requested in use in bin.\r\n",
      "2022-04-20 12:36:00.769020: I tensorflow/core/common_runtime/bfc_allocator.cc:1033] Bin for 15.8KiB was 8.0KiB, Chunk State: \r\n",
      "2022-04-20 12:36:00.769024: I tensorflow/core/common_runtime/bfc_allocator.cc:1046] Next region of size 108855296\r\n",
      "2022-04-20 12:36:00.769032: I tensorflow/core/common_runtime/bfc_allocator.cc:1066] InUse at 7fc6c8000000 of size 256 next 1\r\n",
      "2022-04-20 12:36:00.769037: I tensorflow/core/common_runtime/bfc_allocator.cc:1066] InUse at 7fc6c8000100 of size 1280 next 2\r\n",
      "2022-04-20 12:36:00.769041: I tensorflow/core/common_runtime/bfc_allocator.cc:1066] InUse at 7fc6c8000600 of size 256 next 3\r\n",
      "2022-04-20 12:36:00.769045: I tensorflow/core/common_runtime/bfc_allocator.cc:1066] InUse at 7fc6c8000700 of size 256 next 4\r\n",
      "2022-04-20 12:36:00.769049: I tensorflow/core/common_runtime/bfc_allocator.cc:1066] InUse at 7fc6c8000800 of size 256 next 5\r\n",
      "2022-04-20 12:36:00.769054: I tensorflow/core/common_runtime/bfc_allocator.cc:1066] InUse at 7fc6c8000900 of size 256 next 6\r\n",
      "2022-04-20 12:36:00.769058: I tensorflow/core/common_runtime/bfc_allocator.cc:1066] InUse at 7fc6c8000a00 of size 256 next 7\r\n",
      "2022-04-20 12:36:00.769062: I tensorflow/core/common_runtime/bfc_allocator.cc:1066] InUse at 7fc6c8000b00 of size 39321600 next 8\r\n",
      "2022-04-20 12:36:00.769066: I tensorflow/core/common_runtime/bfc_allocator.cc:1066] InUse at 7fc6ca580b00 of size 256 next 9\r\n",
      "2022-04-20 12:36:00.769071: I tensorflow/core/common_runtime/bfc_allocator.cc:1066] InUse at 7fc6ca580c00 of size 256 next 10\r\n",
      "2022-04-20 12:36:00.769075: I tensorflow/core/common_runtime/bfc_allocator.cc:1066] InUse at 7fc6ca580d00 of size 3328 next 11\r\n",
      "2022-04-20 12:36:00.769079: I tensorflow/core/common_runtime/bfc_allocator.cc:1066] InUse at 7fc6ca581a00 of size 12800 next 12\r\n",
      "2022-04-20 12:36:00.769084: I tensorflow/core/common_runtime/bfc_allocator.cc:1066] InUse at 7fc6ca584c00 of size 16128 next 13\r\n",
      "2022-04-20 12:36:00.769088: I tensorflow/core/common_runtime/bfc_allocator.cc:1066] InUse at 7fc6ca588b00 of size 16128 next 14\r\n",
      "2022-04-20 12:36:00.769092: I tensorflow/core/common_runtime/bfc_allocator.cc:1066] InUse at 7fc6ca58ca00 of size 3328 next 15\r\n",
      "2022-04-20 12:36:00.769097: I tensorflow/core/common_runtime/bfc_allocator.cc:1066] InUse at 7fc6ca58d700 of size 1024 next 16\r\n",
      "2022-04-20 12:36:00.769101: I tensorflow/core/common_runtime/bfc_allocator.cc:1066] InUse at 7fc6ca58db00 of size 256 next 17\r\n",
      "2022-04-20 12:36:00.769105: I tensorflow/core/common_runtime/bfc_allocator.cc:1066] InUse at 7fc6ca58dc00 of size 1024 next 18\r\n",
      "2022-04-20 12:36:00.769110: I tensorflow/core/common_runtime/bfc_allocator.cc:1066] InUse at 7fc6ca58e000 of size 256 next 19\r\n",
      "2022-04-20 12:36:00.769114: I tensorflow/core/common_runtime/bfc_allocator.cc:1066] InUse at 7fc6ca58e100 of size 256 next 20\r\n",
      "2022-04-20 12:36:00.769118: I tensorflow/core/common_runtime/bfc_allocator.cc:1066] InUse at 7fc6ca58e200 of size 3328 next 21\r\n",
      "2022-04-20 12:36:00.769122: I tensorflow/core/common_runtime/bfc_allocator.cc:1066] InUse at 7fc6ca58ef00 of size 256 next 22\r\n",
      "2022-04-20 12:36:00.769126: I tensorflow/core/common_runtime/bfc_allocator.cc:1066] InUse at 7fc6ca58f000 of size 256 next 23\r\n",
      "2022-04-20 12:36:00.769131: I tensorflow/core/common_runtime/bfc_allocator.cc:1066] InUse at 7fc6ca58f100 of size 69472000 next 18446744073709551615\r\n",
      "2022-04-20 12:36:00.769135: I tensorflow/core/common_runtime/bfc_allocator.cc:1071]      Summary of in-use Chunks by size: \r\n",
      "2022-04-20 12:36:00.769141: I tensorflow/core/common_runtime/bfc_allocator.cc:1074] 13 Chunks of size 256 totalling 3.2KiB\r\n",
      "2022-04-20 12:36:00.769146: I tensorflow/core/common_runtime/bfc_allocator.cc:1074] 2 Chunks of size 1024 totalling 2.0KiB\r\n",
      "2022-04-20 12:36:00.769150: I tensorflow/core/common_runtime/bfc_allocator.cc:1074] 1 Chunks of size 1280 totalling 1.2KiB\r\n",
      "2022-04-20 12:36:00.769155: I tensorflow/core/common_runtime/bfc_allocator.cc:1074] 3 Chunks of size 3328 totalling 9.8KiB\r\n",
      "2022-04-20 12:36:00.769159: I tensorflow/core/common_runtime/bfc_allocator.cc:1074] 1 Chunks of size 12800 totalling 12.5KiB\r\n",
      "2022-04-20 12:36:00.769164: I tensorflow/core/common_runtime/bfc_allocator.cc:1074] 2 Chunks of size 16128 totalling 31.5KiB\r\n",
      "2022-04-20 12:36:00.769169: I tensorflow/core/common_runtime/bfc_allocator.cc:1074] 1 Chunks of size 39321600 totalling 37.50MiB\r\n",
      "2022-04-20 12:36:00.769173: I tensorflow/core/common_runtime/bfc_allocator.cc:1074] 1 Chunks of size 69472000 totalling 66.25MiB\r\n",
      "2022-04-20 12:36:00.769178: I tensorflow/core/common_runtime/bfc_allocator.cc:1078] Sum Total of in-use chunks: 103.81MiB\r\n",
      "2022-04-20 12:36:00.769183: I tensorflow/core/common_runtime/bfc_allocator.cc:1080] total_region_allocated_bytes_: 108855296 memory_limit_: 108855296 available bytes: 0 curr_region_allocation_bytes_: 217710592\r\n",
      "2022-04-20 12:36:00.769190: I tensorflow/core/common_runtime/bfc_allocator.cc:1086] Stats: \r\n",
      "Limit:                       108855296\r\n",
      "InUse:                       108855296\r\n",
      "MaxInUse:                    108855296\r\n",
      "NumAllocs:                          29\r\n",
      "MaxAllocSize:                 69472000\r\n",
      "Reserved:                            0\r\n",
      "PeakReserved:                        0\r\n",
      "LargestFreeBlock:                    0\r\n",
      "\r\n",
      "2022-04-20 12:36:00.769200: W tensorflow/core/common_runtime/bfc_allocator.cc:474] *************************************************************************xxxxxxxxxxxxxxxxxxxxxxxxxxx\r\n"
     ]
    },
    {
     "name": "stdout",
     "output_type": "stream",
     "text": [
      "2022-04-20 12:36:10.769332: W tensorflow/core/common_runtime/bfc_allocator.cc:462] Allocator (GPU_0_bfc) ran out of memory trying to allocate 15.6KiB (rounded to 16128)requested by op SameWorkerRecvDone\r\n",
      "If the cause is memory fragmentation maybe the environment variable 'TF_GPU_ALLOCATOR=cuda_malloc_async' will improve the situation. \r\n",
      "Current allocation summary follows.\r\n",
      "Current allocation summary follows.\r\n",
      "2022-04-20 12:36:10.769363: I tensorflow/core/common_runtime/bfc_allocator.cc:1010] BFCAllocator dump for GPU_0_bfc\r\n",
      "2022-04-20 12:36:10.769372: I tensorflow/core/common_runtime/bfc_allocator.cc:1017] Bin (256): \tTotal Chunks: 13, Chunks in use: 13. 3.2KiB allocated for chunks. 3.2KiB in use in bin. 788B client-requested in use in bin.\r\n",
      "2022-04-20 12:36:10.769378: I tensorflow/core/common_runtime/bfc_allocator.cc:1017] Bin (512): \tTotal Chunks: 0, Chunks in use: 0. 0B allocated for chunks. 0B in use in bin. 0B client-requested in use in bin.\r\n",
      "2022-04-20 12:36:10.769385: I tensorflow/core/common_runtime/bfc_allocator.cc:1017] Bin (1024): \tTotal Chunks: 3, Chunks in use: 3. 3.2KiB allocated for chunks. 3.2KiB in use in bin. 2.6KiB client-requested in use in bin.\r\n",
      "2022-04-20 12:36:10.769391: I tensorflow/core/common_runtime/bfc_allocator.cc:1017] Bin (2048): \tTotal Chunks: 3, Chunks in use: 3. 9.8KiB allocated for chunks. 9.8KiB in use in bin. 9.4KiB client-requested in use in bin.\r\n",
      "2022-04-20 12:36:10.769397: I tensorflow/core/common_runtime/bfc_allocator.cc:1017] Bin (4096): \tTotal Chunks: 0, Chunks in use: 0. 0B allocated for chunks. 0B in use in bin. 0B client-requested in use in bin.\r\n",
      "2022-04-20 12:36:10.769404: I tensorflow/core/common_runtime/bfc_allocator.cc:1017] Bin (8192): \tTotal Chunks: 3, Chunks in use: 3. 44.0KiB allocated for chunks. 44.0KiB in use in bin. 43.8KiB client-requested in use in bin.\r\n",
      "2022-04-20 12:36:10.769410: I tensorflow/core/common_runtime/bfc_allocator.cc:1017] Bin (16384): \tTotal Chunks: 0, Chunks in use: 0. 0B allocated for chunks. 0B in use in bin. 0B client-requested in use in bin.\r\n",
      "2022-04-20 12:36:10.769415: I tensorflow/core/common_runtime/bfc_allocator.cc:1017] Bin (32768): \tTotal Chunks: 0, Chunks in use: 0. 0B allocated for chunks. 0B in use in bin. 0B client-requested in use in bin.\r\n",
      "2022-04-20 12:36:10.769421: I tensorflow/core/common_runtime/bfc_allocator.cc:1017] Bin (65536): \tTotal Chunks: 0, Chunks in use: 0. 0B allocated for chunks. 0B in use in bin. 0B client-requested in use in bin.\r\n",
      "2022-04-20 12:36:10.769426: I tensorflow/core/common_runtime/bfc_allocator.cc:1017] Bin (131072): \tTotal Chunks: 0, Chunks in use: 0. 0B allocated for chunks. 0B in use in bin. 0B client-requested in use in bin.\r\n",
      "2022-04-20 12:36:10.769431: I tensorflow/core/common_runtime/bfc_allocator.cc:1017] Bin (262144): \tTotal Chunks: 0, Chunks in use: 0. 0B allocated for chunks. 0B in use in bin. 0B client-requested in use in bin.\r\n",
      "2022-04-20 12:36:10.769437: I tensorflow/core/common_runtime/bfc_allocator.cc:1017] Bin (524288): \tTotal Chunks: 0, Chunks in use: 0. 0B allocated for chunks. 0B in use in bin. 0B client-requested in use in bin.\r\n",
      "2022-04-20 12:36:10.769443: I tensorflow/core/common_runtime/bfc_allocator.cc:1017] Bin (1048576): \tTotal Chunks: 0, Chunks in use: 0. 0B allocated for chunks. 0B in use in bin. 0B client-requested in use in bin.\r\n",
      "2022-04-20 12:36:10.769448: I tensorflow/core/common_runtime/bfc_allocator.cc:1017] Bin (2097152): \tTotal Chunks: 0, Chunks in use: 0. 0B allocated for chunks. 0B in use in bin. 0B client-requested in use in bin.\r\n",
      "2022-04-20 12:36:10.769453: I tensorflow/core/common_runtime/bfc_allocator.cc:1017] Bin (4194304): \tTotal Chunks: 0, Chunks in use: 0. 0B allocated for chunks. 0B in use in bin. 0B client-requested in use in bin.\r\n",
      "2022-04-20 12:36:10.769459: I tensorflow/core/common_runtime/bfc_allocator.cc:1017] Bin (8388608): \tTotal Chunks: 0, Chunks in use: 0. 0B allocated for chunks. 0B in use in bin. 0B client-requested in use in bin.\r\n",
      "2022-04-20 12:36:10.769465: I tensorflow/core/common_runtime/bfc_allocator.cc:1017] Bin (16777216): \tTotal Chunks: 0, Chunks in use: 0. 0B allocated for chunks. 0B in use in bin. 0B client-requested in use in bin.\r\n",
      "2022-04-20 12:36:10.769471: I tensorflow/core/common_runtime/bfc_allocator.cc:1017] Bin (33554432): \tTotal Chunks: 1, Chunks in use: 1. 37.50MiB allocated for chunks. 37.50MiB in use in bin. 37.50MiB client-requested in use in bin.\r\n",
      "2022-04-20 12:36:10.769477: I tensorflow/core/common_runtime/bfc_allocator.cc:1017] Bin (67108864): \tTotal Chunks: 1, Chunks in use: 1. 66.25MiB allocated for chunks. 66.25MiB in use in bin. 37.50MiB client-requested in use in bin.\r\n",
      "2022-04-20 12:36:10.769483: I tensorflow/core/common_runtime/bfc_allocator.cc:1017] Bin (134217728): \tTotal Chunks: 0, Chunks in use: 0. 0B allocated for chunks. 0B in use in bin. 0B client-requested in use in bin.\r\n",
      "2022-04-20 12:36:10.769489: I tensorflow/core/common_runtime/bfc_allocator.cc:1017] Bin (268435456): \tTotal Chunks: 0, Chunks in use: 0. 0B allocated for chunks. 0B in use in bin. 0B client-requested in use in bin.\r\n",
      "2022-04-20 12:36:10.769495: I tensorflow/core/common_runtime/bfc_allocator.cc:1033] Bin for 15.8KiB was 8.0KiB, Chunk State: \r\n",
      "2022-04-20 12:36:10.769499: I tensorflow/core/common_runtime/bfc_allocator.cc:1046] Next region of size 108855296\r\n",
      "2022-04-20 12:36:10.769507: I tensorflow/core/common_runtime/bfc_allocator.cc:1066] InUse at 7fc6c8000000 of size 256 next 1\r\n",
      "2022-04-20 12:36:10.769512: I tensorflow/core/common_runtime/bfc_allocator.cc:1066] InUse at 7fc6c8000100 of size 1280 next 2\r\n",
      "2022-04-20 12:36:10.769516: I tensorflow/core/common_runtime/bfc_allocator.cc:1066] InUse at 7fc6c8000600 of size 256 next 3\r\n",
      "2022-04-20 12:36:10.769521: I tensorflow/core/common_runtime/bfc_allocator.cc:1066] InUse at 7fc6c8000700 of size 256 next 4\r\n",
      "2022-04-20 12:36:10.769525: I tensorflow/core/common_runtime/bfc_allocator.cc:1066] InUse at 7fc6c8000800 of size 256 next 5\r\n",
      "2022-04-20 12:36:10.769530: I tensorflow/core/common_runtime/bfc_allocator.cc:1066] InUse at 7fc6c8000900 of size 256 next 6\r\n",
      "2022-04-20 12:36:10.769534: I tensorflow/core/common_runtime/bfc_allocator.cc:1066] InUse at 7fc6c8000a00 of size 256 next 7\r\n",
      "2022-04-20 12:36:10.769539: I tensorflow/core/common_runtime/bfc_allocator.cc:1066] InUse at 7fc6c8000b00 of size 39321600 next 8\r\n",
      "2022-04-20 12:36:10.769543: I tensorflow/core/common_runtime/bfc_allocator.cc:1066] InUse at 7fc6ca580b00 of size 256 next 9\r\n",
      "2022-04-20 12:36:10.769548: I tensorflow/core/common_runtime/bfc_allocator.cc:1066] InUse at 7fc6ca580c00 of size 256 next 10\r\n",
      "2022-04-20 12:36:10.769553: I tensorflow/core/common_runtime/bfc_allocator.cc:1066] InUse at 7fc6ca580d00 of size 3328 next 11\r\n",
      "2022-04-20 12:36:10.769558: I tensorflow/core/common_runtime/bfc_allocator.cc:1066] InUse at 7fc6ca581a00 of size 12800 next 12\r\n",
      "2022-04-20 12:36:10.769562: I tensorflow/core/common_runtime/bfc_allocator.cc:1066] InUse at 7fc6ca584c00 of size 16128 next 13\r\n",
      "2022-04-20 12:36:10.769567: I tensorflow/core/common_runtime/bfc_allocator.cc:1066] InUse at 7fc6ca588b00 of size 16128 next 14\r\n",
      "2022-04-20 12:36:10.769572: I tensorflow/core/common_runtime/bfc_allocator.cc:1066] InUse at 7fc6ca58ca00 of size 3328 next 15\r\n",
      "2022-04-20 12:36:10.769576: I tensorflow/core/common_runtime/bfc_allocator.cc:1066] InUse at 7fc6ca58d700 of size 1024 next 16\r\n",
      "2022-04-20 12:36:10.769581: I tensorflow/core/common_runtime/bfc_allocator.cc:1066] InUse at 7fc6ca58db00 of size 256 next 17\r\n",
      "2022-04-20 12:36:10.769585: I tensorflow/core/common_runtime/bfc_allocator.cc:1066] InUse at 7fc6ca58dc00 of size 1024 next 18\r\n",
      "2022-04-20 12:36:10.769590: I tensorflow/core/common_runtime/bfc_allocator.cc:1066] InUse at 7fc6ca58e000 of size 256 next 19\r\n",
      "2022-04-20 12:36:10.769594: I tensorflow/core/common_runtime/bfc_allocator.cc:1066] InUse at 7fc6ca58e100 of size 256 next 20\r\n",
      "2022-04-20 12:36:10.769598: I tensorflow/core/common_runtime/bfc_allocator.cc:1066] InUse at 7fc6ca58e200 of size 3328 next 21\r\n",
      "2022-04-20 12:36:10.769602: I tensorflow/core/common_runtime/bfc_allocator.cc:1066] InUse at 7fc6ca58ef00 of size 256 next 22\r\n",
      "2022-04-20 12:36:10.769606: I tensorflow/core/common_runtime/bfc_allocator.cc:1066] InUse at 7fc6ca58f000 of size 256 next 23\r\n",
      "2022-04-20 12:36:10.769611: I tensorflow/core/common_runtime/bfc_allocator.cc:1066] InUse at 7fc6ca58f100 of size 69472000 next 18446744073709551615\r\n",
      "2022-04-20 12:36:10.769615: I tensorflow/core/common_runtime/bfc_allocator.cc:1071]      Summary of in-use Chunks by size: \r\n",
      "2022-04-20 12:36:10.769621: I tensorflow/core/common_runtime/bfc_allocator.cc:1074] 13 Chunks of size 256 totalling 3.2KiB\r\n",
      "2022-04-20 12:36:10.769626: I tensorflow/core/common_runtime/bfc_allocator.cc:1074] 2 Chunks of size 1024 totalling 2.0KiB\r\n",
      "2022-04-20 12:36:10.769630: I tensorflow/core/common_runtime/bfc_allocator.cc:1074] 1 Chunks of size 1280 totalling 1.2KiB\r\n",
      "2022-04-20 12:36:10.769635: I tensorflow/core/common_runtime/bfc_allocator.cc:1074] 3 Chunks of size 3328 totalling 9.8KiB\r\n",
      "2022-04-20 12:36:10.769640: I tensorflow/core/common_runtime/bfc_allocator.cc:1074] 1 Chunks of size 12800 totalling 12.5KiB\r\n",
      "2022-04-20 12:36:10.769649: I tensorflow/core/common_runtime/bfc_allocator.cc:1074] 2 Chunks of size 16128 totalling 31.5KiB\r\n",
      "2022-04-20 12:36:10.769655: I tensorflow/core/common_runtime/bfc_allocator.cc:1074] 1 Chunks of size 39321600 totalling 37.50MiB\r\n",
      "2022-04-20 12:36:10.769660: I tensorflow/core/common_runtime/bfc_allocator.cc:1074] 1 Chunks of size 69472000 totalling 66.25MiB\r\n",
      "2022-04-20 12:36:10.769665: I tensorflow/core/common_runtime/bfc_allocator.cc:1078] Sum Total of in-use chunks: 103.81MiB\r\n",
      "2022-04-20 12:36:10.769669: I tensorflow/core/common_runtime/bfc_allocator.cc:1080] total_region_allocated_bytes_: 108855296 memory_limit_: 108855296 available bytes: 0 curr_region_allocation_bytes_: 217710592\r\n",
      "2022-04-20 12:36:10.769677: I tensorflow/core/common_runtime/bfc_allocator.cc:1086] Stats: \r\n",
      "Limit:                       108855296\r\n",
      "InUse:                       108855296\r\n",
      "MaxInUse:                    108855296\r\n",
      "NumAllocs:                          29\r\n",
      "MaxAllocSize:                 69472000\r\n",
      "Reserved:                            0\r\n",
      "PeakReserved:                        0\r\n",
      "LargestFreeBlock:                    0\r\n",
      "\r\n",
      "2022-04-20 12:36:10.769685: W tensorflow/core/common_runtime/bfc_allocator.cc:474] *************************************************************************xxxxxxxxxxxxxxxxxxxxxxxxxxx\r\n"
     ]
    },
    {
     "name": "stdout",
     "output_type": "stream",
     "text": [
      "2022-04-20 12:36:20.769814: W tensorflow/core/common_runtime/bfc_allocator.cc:462] Allocator (GPU_0_bfc) ran out of memory trying to allocate 3.1KiB (rounded to 3328)requested by op SameWorkerRecvDone\r\n",
      "If the cause is memory fragmentation maybe the environment variable 'TF_GPU_ALLOCATOR=cuda_malloc_async' will improve the situation. \r\n",
      "Current allocation summary follows.\r\n",
      "Current allocation summary follows.\r\n",
      "2022-04-20 12:36:20.769850: I tensorflow/core/common_runtime/bfc_allocator.cc:1010] BFCAllocator dump for GPU_0_bfc\r\n",
      "2022-04-20 12:36:20.769859: I tensorflow/core/common_runtime/bfc_allocator.cc:1017] Bin (256): \tTotal Chunks: 13, Chunks in use: 13. 3.2KiB allocated for chunks. 3.2KiB in use in bin. 788B client-requested in use in bin.\r\n",
      "2022-04-20 12:36:20.769865: I tensorflow/core/common_runtime/bfc_allocator.cc:1017] Bin (512): \tTotal Chunks: 0, Chunks in use: 0. 0B allocated for chunks. 0B in use in bin. 0B client-requested in use in bin.\r\n",
      "2022-04-20 12:36:20.769871: I tensorflow/core/common_runtime/bfc_allocator.cc:1017] Bin (1024): \tTotal Chunks: 3, Chunks in use: 3. 3.2KiB allocated for chunks. 3.2KiB in use in bin. 2.6KiB client-requested in use in bin.\r\n",
      "2022-04-20 12:36:20.769877: I tensorflow/core/common_runtime/bfc_allocator.cc:1017] Bin (2048): \tTotal Chunks: 3, Chunks in use: 3. 9.8KiB allocated for chunks. 9.8KiB in use in bin. 9.4KiB client-requested in use in bin.\r\n",
      "2022-04-20 12:36:20.769882: I tensorflow/core/common_runtime/bfc_allocator.cc:1017] Bin (4096): \tTotal Chunks: 0, Chunks in use: 0. 0B allocated for chunks. 0B in use in bin. 0B client-requested in use in bin.\r\n",
      "2022-04-20 12:36:20.769889: I tensorflow/core/common_runtime/bfc_allocator.cc:1017] Bin (8192): \tTotal Chunks: 3, Chunks in use: 3. 44.0KiB allocated for chunks. 44.0KiB in use in bin. 43.8KiB client-requested in use in bin.\r\n",
      "2022-04-20 12:36:20.769894: I tensorflow/core/common_runtime/bfc_allocator.cc:1017] Bin (16384): \tTotal Chunks: 0, Chunks in use: 0. 0B allocated for chunks. 0B in use in bin. 0B client-requested in use in bin.\r\n",
      "2022-04-20 12:36:20.769900: I tensorflow/core/common_runtime/bfc_allocator.cc:1017] Bin (32768): \tTotal Chunks: 0, Chunks in use: 0. 0B allocated for chunks. 0B in use in bin. 0B client-requested in use in bin.\r\n",
      "2022-04-20 12:36:20.769905: I tensorflow/core/common_runtime/bfc_allocator.cc:1017] Bin (65536): \tTotal Chunks: 0, Chunks in use: 0. 0B allocated for chunks. 0B in use in bin. 0B client-requested in use in bin.\r\n",
      "2022-04-20 12:36:20.769910: I tensorflow/core/common_runtime/bfc_allocator.cc:1017] Bin (131072): \tTotal Chunks: 0, Chunks in use: 0. 0B allocated for chunks. 0B in use in bin. 0B client-requested in use in bin.\r\n",
      "2022-04-20 12:36:20.769915: I tensorflow/core/common_runtime/bfc_allocator.cc:1017] Bin (262144): \tTotal Chunks: 0, Chunks in use: 0. 0B allocated for chunks. 0B in use in bin. 0B client-requested in use in bin.\r\n",
      "2022-04-20 12:36:20.769920: I tensorflow/core/common_runtime/bfc_allocator.cc:1017] Bin (524288): \tTotal Chunks: 0, Chunks in use: 0. 0B allocated for chunks. 0B in use in bin. 0B client-requested in use in bin.\r\n",
      "2022-04-20 12:36:20.769926: I tensorflow/core/common_runtime/bfc_allocator.cc:1017] Bin (1048576): \tTotal Chunks: 0, Chunks in use: 0. 0B allocated for chunks. 0B in use in bin. 0B client-requested in use in bin.\r\n",
      "2022-04-20 12:36:20.769931: I tensorflow/core/common_runtime/bfc_allocator.cc:1017] Bin (2097152): \tTotal Chunks: 0, Chunks in use: 0. 0B allocated for chunks. 0B in use in bin. 0B client-requested in use in bin.\r\n",
      "2022-04-20 12:36:20.769936: I tensorflow/core/common_runtime/bfc_allocator.cc:1017] Bin (4194304): \tTotal Chunks: 0, Chunks in use: 0. 0B allocated for chunks. 0B in use in bin. 0B client-requested in use in bin.\r\n",
      "2022-04-20 12:36:20.769941: I tensorflow/core/common_runtime/bfc_allocator.cc:1017] Bin (8388608): \tTotal Chunks: 0, Chunks in use: 0. 0B allocated for chunks. 0B in use in bin. 0B client-requested in use in bin.\r\n",
      "2022-04-20 12:36:20.769946: I tensorflow/core/common_runtime/bfc_allocator.cc:1017] Bin (16777216): \tTotal Chunks: 0, Chunks in use: 0. 0B allocated for chunks. 0B in use in bin. 0B client-requested in use in bin.\r\n",
      "2022-04-20 12:36:20.769952: I tensorflow/core/common_runtime/bfc_allocator.cc:1017] Bin (33554432): \tTotal Chunks: 1, Chunks in use: 1. 37.50MiB allocated for chunks. 37.50MiB in use in bin. 37.50MiB client-requested in use in bin.\r\n",
      "2022-04-20 12:36:20.769959: I tensorflow/core/common_runtime/bfc_allocator.cc:1017] Bin (67108864): \tTotal Chunks: 1, Chunks in use: 1. 66.25MiB allocated for chunks. 66.25MiB in use in bin. 37.50MiB client-requested in use in bin.\r\n",
      "2022-04-20 12:36:20.769965: I tensorflow/core/common_runtime/bfc_allocator.cc:1017] Bin (134217728): \tTotal Chunks: 0, Chunks in use: 0. 0B allocated for chunks. 0B in use in bin. 0B client-requested in use in bin.\r\n",
      "2022-04-20 12:36:20.769970: I tensorflow/core/common_runtime/bfc_allocator.cc:1017] Bin (268435456): \tTotal Chunks: 0, Chunks in use: 0. 0B allocated for chunks. 0B in use in bin. 0B client-requested in use in bin.\r\n",
      "2022-04-20 12:36:20.769976: I tensorflow/core/common_runtime/bfc_allocator.cc:1033] Bin for 3.2KiB was 2.0KiB, Chunk State: \r\n",
      "2022-04-20 12:36:20.769981: I tensorflow/core/common_runtime/bfc_allocator.cc:1046] Next region of size 108855296\r\n",
      "2022-04-20 12:36:20.769989: I tensorflow/core/common_runtime/bfc_allocator.cc:1066] InUse at 7fc6c8000000 of size 256 next 1\r\n",
      "2022-04-20 12:36:20.769993: I tensorflow/core/common_runtime/bfc_allocator.cc:1066] InUse at 7fc6c8000100 of size 1280 next 2\r\n",
      "2022-04-20 12:36:20.769997: I tensorflow/core/common_runtime/bfc_allocator.cc:1066] InUse at 7fc6c8000600 of size 256 next 3\r\n",
      "2022-04-20 12:36:20.770002: I tensorflow/core/common_runtime/bfc_allocator.cc:1066] InUse at 7fc6c8000700 of size 256 next 4\r\n",
      "2022-04-20 12:36:20.770008: I tensorflow/core/common_runtime/bfc_allocator.cc:1066] InUse at 7fc6c8000800 of size 256 next 5\r\n",
      "2022-04-20 12:36:20.770014: I tensorflow/core/common_runtime/bfc_allocator.cc:1066] InUse at 7fc6c8000900 of size 256 next 6\r\n",
      "2022-04-20 12:36:20.770020: I tensorflow/core/common_runtime/bfc_allocator.cc:1066] InUse at 7fc6c8000a00 of size 256 next 7\r\n",
      "2022-04-20 12:36:20.770025: I tensorflow/core/common_runtime/bfc_allocator.cc:1066] InUse at 7fc6c8000b00 of size 39321600 next 8\r\n",
      "2022-04-20 12:36:20.770030: I tensorflow/core/common_runtime/bfc_allocator.cc:1066] InUse at 7fc6ca580b00 of size 256 next 9\r\n",
      "2022-04-20 12:36:20.770035: I tensorflow/core/common_runtime/bfc_allocator.cc:1066] InUse at 7fc6ca580c00 of size 256 next 10\r\n",
      "2022-04-20 12:36:20.770042: I tensorflow/core/common_runtime/bfc_allocator.cc:1066] InUse at 7fc6ca580d00 of size 3328 next 11\r\n",
      "2022-04-20 12:36:20.770047: I tensorflow/core/common_runtime/bfc_allocator.cc:1066] InUse at 7fc6ca581a00 of size 12800 next 12\r\n",
      "2022-04-20 12:36:20.770051: I tensorflow/core/common_runtime/bfc_allocator.cc:1066] InUse at 7fc6ca584c00 of size 16128 next 13\r\n",
      "2022-04-20 12:36:20.770056: I tensorflow/core/common_runtime/bfc_allocator.cc:1066] InUse at 7fc6ca588b00 of size 16128 next 14\r\n",
      "2022-04-20 12:36:20.770060: I tensorflow/core/common_runtime/bfc_allocator.cc:1066] InUse at 7fc6ca58ca00 of size 3328 next 15\r\n",
      "2022-04-20 12:36:20.770064: I tensorflow/core/common_runtime/bfc_allocator.cc:1066] InUse at 7fc6ca58d700 of size 1024 next 16\r\n",
      "2022-04-20 12:36:20.770068: I tensorflow/core/common_runtime/bfc_allocator.cc:1066] InUse at 7fc6ca58db00 of size 256 next 17\r\n",
      "2022-04-20 12:36:20.770073: I tensorflow/core/common_runtime/bfc_allocator.cc:1066] InUse at 7fc6ca58dc00 of size 1024 next 18\r\n",
      "2022-04-20 12:36:20.770077: I tensorflow/core/common_runtime/bfc_allocator.cc:1066] InUse at 7fc6ca58e000 of size 256 next 19\r\n",
      "2022-04-20 12:36:20.770081: I tensorflow/core/common_runtime/bfc_allocator.cc:1066] InUse at 7fc6ca58e100 of size 256 next 20\r\n",
      "2022-04-20 12:36:20.770086: I tensorflow/core/common_runtime/bfc_allocator.cc:1066] InUse at 7fc6ca58e200 of size 3328 next 21\r\n",
      "2022-04-20 12:36:20.770090: I tensorflow/core/common_runtime/bfc_allocator.cc:1066] InUse at 7fc6ca58ef00 of size 256 next 22\r\n",
      "2022-04-20 12:36:20.770094: I tensorflow/core/common_runtime/bfc_allocator.cc:1066] InUse at 7fc6ca58f000 of size 256 next 23\r\n",
      "2022-04-20 12:36:20.770099: I tensorflow/core/common_runtime/bfc_allocator.cc:1066] InUse at 7fc6ca58f100 of size 69472000 next 18446744073709551615\r\n",
      "2022-04-20 12:36:20.770103: I tensorflow/core/common_runtime/bfc_allocator.cc:1071]      Summary of in-use Chunks by size: \r\n",
      "2022-04-20 12:36:20.770109: I tensorflow/core/common_runtime/bfc_allocator.cc:1074] 13 Chunks of size 256 totalling 3.2KiB\r\n",
      "2022-04-20 12:36:20.770113: I tensorflow/core/common_runtime/bfc_allocator.cc:1074] 2 Chunks of size 1024 totalling 2.0KiB\r\n",
      "2022-04-20 12:36:20.770118: I tensorflow/core/common_runtime/bfc_allocator.cc:1074] 1 Chunks of size 1280 totalling 1.2KiB\r\n",
      "2022-04-20 12:36:20.770123: I tensorflow/core/common_runtime/bfc_allocator.cc:1074] 3 Chunks of size 3328 totalling 9.8KiB\r\n",
      "2022-04-20 12:36:20.770127: I tensorflow/core/common_runtime/bfc_allocator.cc:1074] 1 Chunks of size 12800 totalling 12.5KiB\r\n",
      "2022-04-20 12:36:20.770132: I tensorflow/core/common_runtime/bfc_allocator.cc:1074] 2 Chunks of size 16128 totalling 31.5KiB\r\n",
      "2022-04-20 12:36:20.770137: I tensorflow/core/common_runtime/bfc_allocator.cc:1074] 1 Chunks of size 39321600 totalling 37.50MiB\r\n",
      "2022-04-20 12:36:20.770141: I tensorflow/core/common_runtime/bfc_allocator.cc:1074] 1 Chunks of size 69472000 totalling 66.25MiB\r\n",
      "2022-04-20 12:36:20.770146: I tensorflow/core/common_runtime/bfc_allocator.cc:1078] Sum Total of in-use chunks: 103.81MiB\r\n",
      "2022-04-20 12:36:20.770151: I tensorflow/core/common_runtime/bfc_allocator.cc:1080] total_region_allocated_bytes_: 108855296 memory_limit_: 108855296 available bytes: 0 curr_region_allocation_bytes_: 217710592\r\n",
      "2022-04-20 12:36:20.770158: I tensorflow/core/common_runtime/bfc_allocator.cc:1086] Stats: \r\n",
      "Limit:                       108855296\r\n",
      "InUse:                       108855296\r\n",
      "MaxInUse:                    108855296\r\n",
      "NumAllocs:                          29\r\n",
      "MaxAllocSize:                 69472000\r\n",
      "Reserved:                            0\r\n",
      "PeakReserved:                        0\r\n",
      "LargestFreeBlock:                    0\r\n",
      "\r\n",
      "2022-04-20 12:36:20.770167: W tensorflow/core/common_runtime/bfc_allocator.cc:474] *************************************************************************xxxxxxxxxxxxxxxxxxxxxxxxxxx\r\n"
     ]
    }
   ],
   "source": [
    "!python /home/ovenoboyo/projects/pbl/training/model_main_tf2.py --model_dir='/home/ovenoboyo/projects/pbl/training/models/my_ssdresnet_101/' --pipeline_config_path='/home/ovenoboyo/projects/pbl/training/models/my_ssdresnet_101/pipeline.config'"
   ]
  },
  {
   "cell_type": "code",
   "execution_count": null,
   "metadata": {
    "id": "qSXlPVQrl4Ac"
   },
   "outputs": [],
   "source": [
    "# for import error: cannot import name '_registerMatType' from 'cv2.cv2'\n",
    "# !pip uninstall opencv-python-headless"
   ]
  },
  {
   "cell_type": "code",
   "execution_count": null,
   "metadata": {
    "id": "pbD438g0mYui"
   },
   "outputs": [],
   "source": [
    "# !pip install opencv-python-headless==4.1.2.30"
   ]
  },
  {
   "cell_type": "code",
   "execution_count": null,
   "metadata": {
    "colab": {
     "base_uri": "https://localhost:8080/"
    },
    "id": "TE0GO-Uco5fw",
    "outputId": "26bbb445-c21e-4fa7-87d5-7f5faea070b2"
   },
   "outputs": [],
   "source": [
    "pwd"
   ]
  },
  {
   "cell_type": "markdown",
   "metadata": {
    "id": "2Bbagb8kaTq-"
   },
   "source": [
    "saving the trained model after exporting it to saved_model dir"
   ]
  },
  {
   "cell_type": "code",
   "execution_count": null,
   "metadata": {
    "colab": {
     "base_uri": "https://localhost:8080/"
    },
    "id": "lrgK51AAZpz9",
    "outputId": "8355cdd2-a009-46cb-985c-d6b862e66c46"
   },
   "outputs": [],
   "source": [
    "!python /home/ovenoboyo/projects/pbl/training/exporter_main_v2.py --input_type image_tensor --pipeline_config_path /home/ovenoboyo/projects/pbl/training/models/my_ssdresnet_101/pipeline.config --trained_checkpoint_dir /home/ovenoboyo/projects/pbl/training/models/my_ssdresnet_101 --output_directory /home/ovenoboyo/projects/pbl/training/saved_model"
   ]
  },
  {
   "cell_type": "markdown",
   "metadata": {
    "id": "YbGYbOsNa5Wy"
   },
   "source": [
    "# viewing the obj dec"
   ]
  },
  {
   "cell_type": "code",
   "execution_count": null,
   "metadata": {
    "colab": {
     "base_uri": "https://localhost:8080/"
    },
    "id": "dO89ituUt46i",
    "outputId": "dd315315-819e-4d05-8171-8bed35627976"
   },
   "outputs": [],
   "source": [
    "import tensorflow as tf\n",
    "tf.config.list_physical_devices('GPU')"
   ]
  },
  {
   "cell_type": "code",
   "execution_count": null,
   "metadata": {
    "colab": {
     "base_uri": "https://localhost:8080/"
    },
    "id": "3R7zkqiraMoI",
    "outputId": "a1bab887-f732-4610-ba21-51ace27b7c55"
   },
   "outputs": [],
   "source": [
    "\"\"\"\n",
    "Object Detection (On Image) From TF2 Saved Model\n",
    "=====================================\n",
    "\"\"\"\n",
    "\n",
    "import os\n",
    "os.environ['TF_CPP_MIN_LOG_LEVEL'] = '2'    # Suppress TensorFlow logging (1)\n",
    "import pathlib\n",
    "import tensorflow as tf\n",
    "import cv2\n",
    "import argparse\n",
    "import cv2\n",
    "import matplotlib.pyplot as plt\n",
    "\n",
    "# Enable GPU dynamic memory allocation\n",
    "gpus = tf.config.experimental.list_physical_devices('GPU')\n",
    "for gpu in gpus:\n",
    "    tf.config.experimental.set_memory_growth(gpu, True)\n",
    "\n",
    "# PROVIDE PATH TO IMAGE DIRECTORY\n",
    "IMAGE_PATHS = '/home/ovenoboyo/projects/pbl/training/images/test/fork_1.png'\n",
    "\n",
    "\n",
    "# PROVIDE PATH TO MODEL DIRECTORY\n",
    "PATH_TO_MODEL_DIR = '/home/ovenoboyo/projects/pbl/training/saved_model'\n",
    "\n",
    "# PROVIDE PATH TO LABEL MAP\n",
    "PATH_TO_LABELS = '/home/ovenoboyo/projects/pbl/training/annotations/label_map.pbtxt'\n",
    "\n",
    "# PROVIDE THE MINIMUM CONFIDENCE THRESHOLD\n",
    "MIN_CONF_THRESH = float(0.60)\n",
    "\n",
    "# LOAD THE MODEL\n",
    "\n",
    "import time\n",
    "from object_detection.utils import label_map_util\n",
    "from object_detection.utils import visualization_utils as viz_utils\n",
    "\n",
    "PATH_TO_SAVED_MODEL = PATH_TO_MODEL_DIR + \"/saved_model\"\n",
    "\n",
    "print('Loading model...', end='')\n",
    "start_time = time.time()\n",
    "\n",
    "# LOAD SAVED MODEL AND BUILD DETECTION FUNCTION\n",
    "detect_fn = tf.saved_model.load(PATH_TO_SAVED_MODEL)\n",
    "\n",
    "end_time = time.time()\n",
    "elapsed_time = end_time - start_time\n",
    "print('Done! Took {} seconds'.format(elapsed_time))\n",
    "\n",
    "# LOAD LABEL MAP DATA FOR PLOTTING\n",
    "\n",
    "category_index = label_map_util.create_category_index_from_labelmap(PATH_TO_LABELS,\n",
    "                                                                    use_display_name=True)\n",
    "\n",
    "import numpy as np\n",
    "from PIL import Image\n",
    "import matplotlib.pyplot as plt\n",
    "import warnings\n",
    "warnings.filterwarnings('ignore')   # Suppress Matplotlib warnings\n",
    "\n",
    "def load_image_into_numpy_array(path):\n",
    "    \"\"\"Load an image from file into a numpy array.\n",
    "    Puts image into numpy array to feed into tensorflow graph.\n",
    "    Note that by convention we put it into a numpy array with shape\n",
    "    (height, width, channels), where channels=3 for RGB.\n",
    "    Args:\n",
    "      path: the file path to the image\n",
    "    Returns:\n",
    "      uint8 numpy array with shape (img_height, img_width, 3)\n",
    "    \"\"\"\n",
    "    return np.array(Image.open(path))\n",
    "\n",
    "\n",
    "\n",
    "\n",
    "print('Running inference for {}... '.format(IMAGE_PATHS), end='')\n",
    "\n",
    "image = cv2.imread(IMAGE_PATHS)\n",
    "image_rgb = cv2.cvtColor(image, cv2.COLOR_BGR2RGB)\n",
    "image_expanded = np.expand_dims(image_rgb, axis=0)\n",
    "\n",
    "# The input needs to be a tensor, convert it using `tf.convert_to_tensor`.\n",
    "input_tensor = tf.convert_to_tensor(image)\n",
    "# The model expects a batch of images, so add an axis with `tf.newaxis`.\n",
    "input_tensor = input_tensor[tf.newaxis, ...]\n",
    "\n",
    "# input_tensor = np.expand_dims(image_np, 0)\n",
    "detections = detect_fn(input_tensor)\n",
    "\n",
    "# All outputs are batches tensors.\n",
    "# Convert to numpy arrays, and take index [0] to remove the batch dimension.\n",
    "# We're only interested in the first num_detections.\n",
    "num_detections = int(detections.pop('num_detections'))\n",
    "detections = {key: value[0, :num_detections].numpy()\n",
    "               for key, value in detections.items()}\n",
    "detections['num_detections'] = num_detections\n",
    "\n",
    "# detection_classes should be ints.\n",
    "detections['detection_classes'] = detections['detection_classes'].astype(np.int64)\n",
    "\n",
    "image_with_detections = image.copy()\n",
    "\n",
    "# SET MIN_SCORE_THRESH BASED ON YOU MINIMUM THRESHOLD FOR DETECTIONS\n",
    "viz_utils.visualize_boxes_and_labels_on_image_array(\n",
    "      image_with_detections,\n",
    "      detections['detection_boxes'],\n",
    "      detections['detection_classes'],\n",
    "      detections['detection_scores'],\n",
    "      category_index,\n",
    "      use_normalized_coordinates=True,\n",
    "      max_boxes_to_draw=200,\n",
    "      min_score_thresh=0.5,\n",
    "      agnostic_mode=False)\n",
    "\n",
    "print('Done')\n",
    "# DISPLAYS OUTPUT IMAGE\n",
    "plt.imshow(image_with_detections)\n",
    "plt.show()\n",
    "# CLOSES WINDOW ONCE KEY IS PRESSED\n"
   ]
  },
  {
   "cell_type": "code",
   "execution_count": null,
   "metadata": {
    "id": "TyIh4b_jbSvm"
   },
   "outputs": [],
   "source": [
    "import matplotlib.pyplot as plt\n",
    "\n",
    "plt.plot([1, 2, 3, 4])\n",
    "plt.show()"
   ]
  }
 ],
 "metadata": {
  "accelerator": "GPU",
  "colab": {
   "collapsed_sections": [],
   "name": "Copy of pbl2a.ipynb",
   "provenance": []
  },
  "kernelspec": {
   "display_name": "Python 3 (ipykernel)",
   "language": "python",
   "name": "python3"
  },
  "language_info": {
   "codemirror_mode": {
    "name": "ipython",
    "version": 3
   },
   "file_extension": ".py",
   "mimetype": "text/x-python",
   "name": "python",
   "nbconvert_exporter": "python",
   "pygments_lexer": "ipython3",
   "version": "3.8.8"
  }
 },
 "nbformat": 4,
 "nbformat_minor": 1
}
